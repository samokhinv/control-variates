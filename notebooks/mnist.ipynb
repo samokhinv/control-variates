{
 "cells": [
  {
   "cell_type": "code",
   "execution_count": 2,
   "metadata": {
    "tags": []
   },
   "outputs": [],
   "source": [
    "%load_ext autoreload\n",
    "%autoreload 2"
   ]
  },
  {
   "cell_type": "markdown",
   "metadata": {},
   "source": [
    "### Импорты"
   ]
  },
  {
   "cell_type": "code",
   "execution_count": 3,
   "metadata": {
    "tags": []
   },
   "outputs": [],
   "source": [
    "import sys\n",
    "sys.path.append('..')\n",
    "from control_variates.model import MLP\n",
    "from control_variates.optim import LangevinSGD as SGLD, ScaleAdaSGHMC as H_SA_SGHMC\n",
    "from mnist_utils import load_mnist_dataset\n",
    "from control_variates.trainer import BNNTrainer\n",
    "import torch\n",
    "from torch.nn import functional as F\n",
    "\n",
    "import numpy as np\n",
    "import dill as pickle\n",
    "from pathlib import Path\n",
    "from functools import partial\n",
    "from easydict import EasyDict as edict\n",
    "\n",
    "%matplotlib inline\n",
    "\n",
    "from matplotlib import pyplot as plt\n",
    "import numpy as np"
   ]
  },
  {
   "cell_type": "markdown",
   "metadata": {},
   "source": [
    "### Параметры обучения"
   ]
  },
  {
   "cell_type": "code",
   "execution_count": 62,
   "metadata": {
    "tags": []
   },
   "outputs": [],
   "source": [
    "# psy_hidden = 150\n",
    "# psy_depth1 = 3\n",
    "# psy_depth2 = 2\n",
    "\n",
    "args = {\n",
    "    'bnn_lr': 1e-3,\n",
    "    'cv_lr': 1e-3,\n",
    "    'n_cv_iter': 100,\n",
    "    'batch_size' : 500,\n",
    "    'input_dim' : 784,\n",
    "    'width' : 100,\n",
    "    'depth' : 2,\n",
    "    'output_dim' : 2,\n",
    "    'n_epoch' : 200,\n",
    "    'alpha0' : 10, \n",
    "    'beta0' : 10,\n",
    "    'resample_prior_every' : 15,\n",
    "    'resample_momentum_every' : 50,\n",
    "    'burn_in_epochs' : 20,\n",
    "    'save_freq' : 4,\n",
    "    'resample_prior_until' : 100,\n",
    "    'report_every' : 10,\n",
    "    }\n",
    "\n",
    "args = edict(args)"
   ]
  },
  {
   "cell_type": "code",
   "execution_count": 5,
   "metadata": {},
   "outputs": [],
   "source": [
    "device = torch.device('cuda:0' if torch.cuda.is_available() else 'cpu')"
   ]
  },
  {
   "cell_type": "markdown",
   "metadata": {},
   "source": [
    "### Берем два класса из МНИСТа"
   ]
  },
  {
   "cell_type": "code",
   "execution_count": 6,
   "metadata": {
    "tags": []
   },
   "outputs": [],
   "source": [
    "Path('../data', 'mnist').mkdir(exist_ok=True, parents=True)\n",
    "trainloader, valloader = load_mnist_dataset(Path('../data', 'mnist'), args.batch_size, [3, 5])"
   ]
  },
  {
   "cell_type": "code",
   "execution_count": 7,
   "metadata": {
    "tags": []
   },
   "outputs": [],
   "source": [
    "#model = MLP(input_dim=input_dim, width=width, depth=depth, output_dim=output_dim)"
   ]
  },
  {
   "cell_type": "code",
   "execution_count": 8,
   "metadata": {},
   "outputs": [],
   "source": [
    "from control_variates.model import LogRegression\n",
    "model = LogRegression(args.input_dim)"
   ]
  },
  {
   "cell_type": "code",
   "execution_count": 9,
   "metadata": {},
   "outputs": [],
   "source": [
    "#optimizer = SGLD(model.parameters(), lr=lr, alpha0=alpha0, beta0=beta0)\n",
    "optimizer = H_SA_SGHMC(model.parameters(), lr=args.bnn_lr, alpha0=args.alpha0, beta0=args.beta0)\n",
    "#optimizer = torch.optim.SGD(model.parameters(), lr=lr, momentum=False)"
   ]
  },
  {
   "cell_type": "code",
   "execution_count": 10,
   "metadata": {},
   "outputs": [],
   "source": [
    "def nll_func(y_hat, y):\n",
    "    nll = F.cross_entropy(y_hat, y, reduction='sum')\n",
    "    return nll\n",
    "\n",
    "def err_func(y_hat, y):\n",
    "    err = y_hat.argmax(-1).ne(y)\n",
    "    return err"
   ]
  },
  {
   "cell_type": "code",
   "execution_count": 11,
   "metadata": {},
   "outputs": [],
   "source": [
    "trainer = BNNTrainer(model, \n",
    "    optimizer, \n",
    "    nll_func, \n",
    "    err_func, \n",
    "    trainloader, \n",
    "    valloader, \n",
    "    device=device, \n",
    "    resample_prior_every=args.resample_prior_every,\n",
    "    resample_momentum_every=args.resample_momentum_every,\n",
    "    save_freq=args.save_freq,\n",
    "    batch_size=args.batch_size\n",
    "    )"
   ]
  },
  {
   "cell_type": "code",
   "execution_count": 17,
   "metadata": {
    "tags": []
   },
   "outputs": [
    {
     "output_type": "stream",
     "name": "stderr",
     "text": "2020-08-15 14:20:21,724 Epoch 0 finished. Val loss 0.802029550075531, Val error 0.5247108307045215\n2020-08-15 14:20:46,947 Epoch 10 finished. Val loss 0.5323190689086914, Val error 0.2192429022082019\n2020-08-15 14:21:04,992 Epoch 20 finished. Val loss 0.41277220845222473, Val error 0.1440588853838065\n2020-08-15 14:21:23,554 Epoch 30 finished. Val loss 0.33310285210609436, Val error 0.1056782334384858\n2020-08-15 14:21:40,865 Epoch 40 finished. Val loss 0.2908410429954529, Val error 0.0914826498422713\n2020-08-15 14:22:03,856 Epoch 50 finished. Val loss 0.26344412565231323, Val error 0.08201892744479496\n2020-08-15 14:22:26,756 Epoch 60 finished. Val loss 0.2436000406742096, Val error 0.07728706624605679\n2020-08-15 14:22:48,124 Epoch 70 finished. Val loss 0.22829683125019073, Val error 0.06887486855941115\n2020-08-15 14:23:06,016 Epoch 80 finished. Val loss 0.2166004776954651, Val error 0.06782334384858044\n2020-08-15 14:23:23,363 Epoch 90 finished. Val loss 0.20697040855884552, Val error 0.06466876971608833\n2020-08-15 14:23:40,567 Epoch 100 finished. Val loss 0.19888339936733246, Val error 0.06256572029442692\n2020-08-15 14:23:57,872 Epoch 110 finished. Val loss 0.19204376637935638, Val error 0.06256572029442692\n2020-08-15 14:24:15,308 Epoch 120 finished. Val loss 0.18604634702205658, Val error 0.06203995793901157\n2020-08-15 14:24:32,476 Epoch 130 finished. Val loss 0.1807200014591217, Val error 0.05993690851735016\n2020-08-15 14:24:49,737 Epoch 140 finished. Val loss 0.17627544701099396, Val error 0.0583596214511041\n2020-08-15 14:25:06,891 Epoch 150 finished. Val loss 0.17234767973423004, Val error 0.055205047318611984\n2020-08-15 14:25:23,920 Epoch 160 finished. Val loss 0.16873787343502045, Val error 0.054679284963196635\n2020-08-15 14:25:41,064 Epoch 170 finished. Val loss 0.1653841882944107, Val error 0.05362776025236593\n2020-08-15 14:25:59,812 Epoch 180 finished. Val loss 0.1624082773923874, Val error 0.052576235541535225\n2020-08-15 14:26:17,029 Epoch 190 finished. Val loss 0.15967977046966553, Val error 0.05099894847528917\n"
    }
   ],
   "source": [
    "trainer.train(n_epoch=args.n_epoch, burn_in_epochs=args.burn_in_epochs, resample_prior_until=args.resample_prior_until)"
   ]
  },
  {
   "cell_type": "markdown",
   "metadata": {},
   "source": [
    "### Сохраняем сэмплы весов"
   ]
  },
  {
   "cell_type": "code",
   "execution_count": 18,
   "metadata": {
    "tags": []
   },
   "outputs": [
    {
     "output_type": "stream",
     "name": "stdout",
     "text": "25\n"
    }
   ],
   "source": [
    "weights_set = trainer.weight_set_samples[-(args.n_epoch - args.resample_prior_until) // args.save_freq:]\n",
    "\n",
    "print(len(weights_set))\n",
    "\n",
    "Path('../saved_samples', 'mnist_weights').mkdir(exist_ok=True, parents=True)\n",
    "pickle.dump(weights_set, Path('../saved_samples', 'mnist_weights', 'weights.pkl').open('wb'))"
   ]
  },
  {
   "cell_type": "code",
   "execution_count": 63,
   "metadata": {},
   "outputs": [],
   "source": [
    "weights_set = pickle.load(Path('../saved_samples', 'mnist_weights', 'weights.pkl').open('rb'))"
   ]
  },
  {
   "cell_type": "code",
   "execution_count": 64,
   "metadata": {},
   "outputs": [
    {
     "output_type": "execute_result",
     "data": {
      "text/plain": "25"
     },
     "metadata": {},
     "execution_count": 64
    }
   ],
   "source": [
    "len(weights_set)"
   ]
  },
  {
   "cell_type": "markdown",
   "metadata": {},
   "source": [
    "### CV"
   ]
  },
  {
   "cell_type": "code",
   "execution_count": 65,
   "metadata": {
    "tags": []
   },
   "outputs": [],
   "source": [
    "from control_variates.cv_utils import state_dict_to_vec\n",
    "from control_variates.cv_utils import compute_log_likelihood, compute_mc_estimate, compute_naive_variance, compute_tricky_divergence\n",
    "from control_variates.model import get_prediction, get_binary_prediction"
   ]
  },
  {
   "cell_type": "code",
   "execution_count": 66,
   "metadata": {},
   "outputs": [],
   "source": [
    "squeezed_weights = [state_dict_to_vec(w) for w in weights_set]\n",
    "\n",
    "models = [LogRegression(args.input_dim) for _ in range(len(weights_set))]\n",
    "for w, model in zip(weights_set, models):\n",
    "    model.load_state_dict(w)"
   ]
  },
  {
   "cell_type": "code",
   "execution_count": 27,
   "metadata": {},
   "outputs": [],
   "source": [
    "opt_with_priors = trainer.optimizer\n",
    "\n",
    "priors = {}\n",
    "group_params = opt_with_priors.param_groups[0]['params']\n",
    "for (n, _), p in zip(model.named_parameters(), group_params):  \n",
    "    state = opt_with_priors.state[p]  \n",
    "    priors[n] = state['weight_decay']\n",
    "\n",
    "pickle.dump(priors, Path('../saved_samples', 'mnist_weights', 'priors.pkl').open('wb'))"
   ]
  },
  {
   "cell_type": "code",
   "execution_count": 67,
   "metadata": {},
   "outputs": [],
   "source": [
    "priors = pickle.load(Path('../saved_samples', 'mnist_weights', 'priors.pkl').open('rb'))"
   ]
  },
  {
   "cell_type": "code",
   "execution_count": 68,
   "metadata": {
    "tags": []
   },
   "outputs": [],
   "source": [
    "from control_variates.cv import PsyMLP, PsyDoubleMLP, PsyLinear, SteinCV\n"
   ]
  },
  {
   "cell_type": "code",
   "execution_count": 69,
   "metadata": {},
   "outputs": [],
   "source": [
    "\n",
    "psy_input_dim = squeezed_weights[0].shape[0]\n",
    "N_train = len(trainloader.dataset)"
   ]
  },
  {
   "cell_type": "code",
   "execution_count": 70,
   "metadata": {},
   "outputs": [],
   "source": [
    "\n",
    "_, new_valloader = load_mnist_dataset(Path('../data', 'mnist'), args.batch_size, [4, 4])"
   ]
  },
  {
   "cell_type": "code",
   "execution_count": 71,
   "metadata": {},
   "outputs": [],
   "source": [
    "x_new, y_new = next(iter(new_valloader))"
   ]
  },
  {
   "cell_type": "code",
   "execution_count": 72,
   "metadata": {},
   "outputs": [],
   "source": [
    "x_new, y_new = next(iter(valloader))\n",
    "train_x, train_y = next(iter(trainloader))"
   ]
  },
  {
   "cell_type": "markdown",
   "metadata": {},
   "source": [
    "### Фитим на батче"
   ]
  },
  {
   "cell_type": "code",
   "execution_count": 134,
   "metadata": {
    "tags": []
   },
   "outputs": [],
   "source": [
    "#psy_model = PsyMLP(psy_input1, psy_hidden, psy_depth1)\n",
    "psy_model = PsyLinear(psy_input_dim)\n",
    "psy_model.init_zero()\n",
    "psy_model.to(device)\n",
    "\n",
    "neural_control_variate = SteinCV(psy_model, train_x, train_y, priors, N_train)\n",
    "\n",
    "ncv_optimizer = torch.optim.Adam(psy_model.parameters(), lr=args.cv_lr)"
   ]
  },
  {
   "cell_type": "code",
   "execution_count": 135,
   "metadata": {
    "tags": []
   },
   "outputs": [
    {
     "output_type": "display_data",
     "data": {
      "text/plain": "<Figure size 432x288 with 1 Axes>",
      "image/svg+xml": "<?xml version=\"1.0\" encoding=\"utf-8\" standalone=\"no\"?>\n<!DOCTYPE svg PUBLIC \"-//W3C//DTD SVG 1.1//EN\"\n  \"http://www.w3.org/Graphics/SVG/1.1/DTD/svg11.dtd\">\n<!-- Created with matplotlib (https://matplotlib.org/) -->\n<svg height=\"248.518125pt\" version=\"1.1\" viewBox=\"0 0 400.734375 248.518125\" width=\"400.734375pt\" xmlns=\"http://www.w3.org/2000/svg\" xmlns:xlink=\"http://www.w3.org/1999/xlink\">\n <defs>\n  <style type=\"text/css\">\n*{stroke-linecap:butt;stroke-linejoin:round;}\n  </style>\n </defs>\n <g id=\"figure_1\">\n  <g id=\"patch_1\">\n   <path d=\"M 0 248.518125 \nL 400.734375 248.518125 \nL 400.734375 0 \nL 0 0 \nz\n\" style=\"fill:none;\"/>\n  </g>\n  <g id=\"axes_1\">\n   <g id=\"patch_2\">\n    <path d=\"M 49.190625 224.64 \nL 383.990625 224.64 \nL 383.990625 7.2 \nL 49.190625 7.2 \nz\n\" style=\"fill:#ffffff;\"/>\n   </g>\n   <g id=\"matplotlib.axis_1\">\n    <g id=\"xtick_1\">\n     <g id=\"line2d_1\">\n      <defs>\n       <path d=\"M 0 0 \nL 0 3.5 \n\" id=\"m6586a7a3e3\" style=\"stroke:#000000;stroke-width:0.8;\"/>\n      </defs>\n      <g>\n       <use style=\"stroke:#000000;stroke-width:0.8;\" x=\"49.190625\" xlink:href=\"#m6586a7a3e3\" y=\"224.64\"/>\n      </g>\n     </g>\n     <g id=\"text_1\">\n      <!-- 0 -->\n      <defs>\n       <path d=\"M 31.78125 66.40625 \nQ 24.171875 66.40625 20.328125 58.90625 \nQ 16.5 51.421875 16.5 36.375 \nQ 16.5 21.390625 20.328125 13.890625 \nQ 24.171875 6.390625 31.78125 6.390625 \nQ 39.453125 6.390625 43.28125 13.890625 \nQ 47.125 21.390625 47.125 36.375 \nQ 47.125 51.421875 43.28125 58.90625 \nQ 39.453125 66.40625 31.78125 66.40625 \nz\nM 31.78125 74.21875 \nQ 44.046875 74.21875 50.515625 64.515625 \nQ 56.984375 54.828125 56.984375 36.375 \nQ 56.984375 17.96875 50.515625 8.265625 \nQ 44.046875 -1.421875 31.78125 -1.421875 \nQ 19.53125 -1.421875 13.0625 8.265625 \nQ 6.59375 17.96875 6.59375 36.375 \nQ 6.59375 54.828125 13.0625 64.515625 \nQ 19.53125 74.21875 31.78125 74.21875 \nz\n\" id=\"DejaVuSans-48\"/>\n      </defs>\n      <g transform=\"translate(46.009375 239.238437)scale(0.1 -0.1)\">\n       <use xlink:href=\"#DejaVuSans-48\"/>\n      </g>\n     </g>\n    </g>\n    <g id=\"xtick_2\">\n     <g id=\"line2d_2\">\n      <g>\n       <use style=\"stroke:#000000;stroke-width:0.8;\" x=\"116.150625\" xlink:href=\"#m6586a7a3e3\" y=\"224.64\"/>\n      </g>\n     </g>\n     <g id=\"text_2\">\n      <!-- 20 -->\n      <defs>\n       <path d=\"M 19.1875 8.296875 \nL 53.609375 8.296875 \nL 53.609375 0 \nL 7.328125 0 \nL 7.328125 8.296875 \nQ 12.9375 14.109375 22.625 23.890625 \nQ 32.328125 33.6875 34.8125 36.53125 \nQ 39.546875 41.84375 41.421875 45.53125 \nQ 43.3125 49.21875 43.3125 52.78125 \nQ 43.3125 58.59375 39.234375 62.25 \nQ 35.15625 65.921875 28.609375 65.921875 \nQ 23.96875 65.921875 18.8125 64.3125 \nQ 13.671875 62.703125 7.8125 59.421875 \nL 7.8125 69.390625 \nQ 13.765625 71.78125 18.9375 73 \nQ 24.125 74.21875 28.421875 74.21875 \nQ 39.75 74.21875 46.484375 68.546875 \nQ 53.21875 62.890625 53.21875 53.421875 \nQ 53.21875 48.921875 51.53125 44.890625 \nQ 49.859375 40.875 45.40625 35.40625 \nQ 44.1875 33.984375 37.640625 27.21875 \nQ 31.109375 20.453125 19.1875 8.296875 \nz\n\" id=\"DejaVuSans-50\"/>\n      </defs>\n      <g transform=\"translate(109.788125 239.238437)scale(0.1 -0.1)\">\n       <use xlink:href=\"#DejaVuSans-50\"/>\n       <use x=\"63.623047\" xlink:href=\"#DejaVuSans-48\"/>\n      </g>\n     </g>\n    </g>\n    <g id=\"xtick_3\">\n     <g id=\"line2d_3\">\n      <g>\n       <use style=\"stroke:#000000;stroke-width:0.8;\" x=\"183.110625\" xlink:href=\"#m6586a7a3e3\" y=\"224.64\"/>\n      </g>\n     </g>\n     <g id=\"text_3\">\n      <!-- 40 -->\n      <defs>\n       <path d=\"M 37.796875 64.3125 \nL 12.890625 25.390625 \nL 37.796875 25.390625 \nz\nM 35.203125 72.90625 \nL 47.609375 72.90625 \nL 47.609375 25.390625 \nL 58.015625 25.390625 \nL 58.015625 17.1875 \nL 47.609375 17.1875 \nL 47.609375 0 \nL 37.796875 0 \nL 37.796875 17.1875 \nL 4.890625 17.1875 \nL 4.890625 26.703125 \nz\n\" id=\"DejaVuSans-52\"/>\n      </defs>\n      <g transform=\"translate(176.748125 239.238437)scale(0.1 -0.1)\">\n       <use xlink:href=\"#DejaVuSans-52\"/>\n       <use x=\"63.623047\" xlink:href=\"#DejaVuSans-48\"/>\n      </g>\n     </g>\n    </g>\n    <g id=\"xtick_4\">\n     <g id=\"line2d_4\">\n      <g>\n       <use style=\"stroke:#000000;stroke-width:0.8;\" x=\"250.070625\" xlink:href=\"#m6586a7a3e3\" y=\"224.64\"/>\n      </g>\n     </g>\n     <g id=\"text_4\">\n      <!-- 60 -->\n      <defs>\n       <path d=\"M 33.015625 40.375 \nQ 26.375 40.375 22.484375 35.828125 \nQ 18.609375 31.296875 18.609375 23.390625 \nQ 18.609375 15.53125 22.484375 10.953125 \nQ 26.375 6.390625 33.015625 6.390625 \nQ 39.65625 6.390625 43.53125 10.953125 \nQ 47.40625 15.53125 47.40625 23.390625 \nQ 47.40625 31.296875 43.53125 35.828125 \nQ 39.65625 40.375 33.015625 40.375 \nz\nM 52.59375 71.296875 \nL 52.59375 62.3125 \nQ 48.875 64.0625 45.09375 64.984375 \nQ 41.3125 65.921875 37.59375 65.921875 \nQ 27.828125 65.921875 22.671875 59.328125 \nQ 17.53125 52.734375 16.796875 39.40625 \nQ 19.671875 43.65625 24.015625 45.921875 \nQ 28.375 48.1875 33.59375 48.1875 \nQ 44.578125 48.1875 50.953125 41.515625 \nQ 57.328125 34.859375 57.328125 23.390625 \nQ 57.328125 12.15625 50.6875 5.359375 \nQ 44.046875 -1.421875 33.015625 -1.421875 \nQ 20.359375 -1.421875 13.671875 8.265625 \nQ 6.984375 17.96875 6.984375 36.375 \nQ 6.984375 53.65625 15.1875 63.9375 \nQ 23.390625 74.21875 37.203125 74.21875 \nQ 40.921875 74.21875 44.703125 73.484375 \nQ 48.484375 72.75 52.59375 71.296875 \nz\n\" id=\"DejaVuSans-54\"/>\n      </defs>\n      <g transform=\"translate(243.708125 239.238437)scale(0.1 -0.1)\">\n       <use xlink:href=\"#DejaVuSans-54\"/>\n       <use x=\"63.623047\" xlink:href=\"#DejaVuSans-48\"/>\n      </g>\n     </g>\n    </g>\n    <g id=\"xtick_5\">\n     <g id=\"line2d_5\">\n      <g>\n       <use style=\"stroke:#000000;stroke-width:0.8;\" x=\"317.030625\" xlink:href=\"#m6586a7a3e3\" y=\"224.64\"/>\n      </g>\n     </g>\n     <g id=\"text_5\">\n      <!-- 80 -->\n      <defs>\n       <path d=\"M 31.78125 34.625 \nQ 24.75 34.625 20.71875 30.859375 \nQ 16.703125 27.09375 16.703125 20.515625 \nQ 16.703125 13.921875 20.71875 10.15625 \nQ 24.75 6.390625 31.78125 6.390625 \nQ 38.8125 6.390625 42.859375 10.171875 \nQ 46.921875 13.96875 46.921875 20.515625 \nQ 46.921875 27.09375 42.890625 30.859375 \nQ 38.875 34.625 31.78125 34.625 \nz\nM 21.921875 38.8125 \nQ 15.578125 40.375 12.03125 44.71875 \nQ 8.5 49.078125 8.5 55.328125 \nQ 8.5 64.0625 14.71875 69.140625 \nQ 20.953125 74.21875 31.78125 74.21875 \nQ 42.671875 74.21875 48.875 69.140625 \nQ 55.078125 64.0625 55.078125 55.328125 \nQ 55.078125 49.078125 51.53125 44.71875 \nQ 48 40.375 41.703125 38.8125 \nQ 48.828125 37.15625 52.796875 32.3125 \nQ 56.78125 27.484375 56.78125 20.515625 \nQ 56.78125 9.90625 50.3125 4.234375 \nQ 43.84375 -1.421875 31.78125 -1.421875 \nQ 19.734375 -1.421875 13.25 4.234375 \nQ 6.78125 9.90625 6.78125 20.515625 \nQ 6.78125 27.484375 10.78125 32.3125 \nQ 14.796875 37.15625 21.921875 38.8125 \nz\nM 18.3125 54.390625 \nQ 18.3125 48.734375 21.84375 45.5625 \nQ 25.390625 42.390625 31.78125 42.390625 \nQ 38.140625 42.390625 41.71875 45.5625 \nQ 45.3125 48.734375 45.3125 54.390625 \nQ 45.3125 60.0625 41.71875 63.234375 \nQ 38.140625 66.40625 31.78125 66.40625 \nQ 25.390625 66.40625 21.84375 63.234375 \nQ 18.3125 60.0625 18.3125 54.390625 \nz\n\" id=\"DejaVuSans-56\"/>\n      </defs>\n      <g transform=\"translate(310.668125 239.238437)scale(0.1 -0.1)\">\n       <use xlink:href=\"#DejaVuSans-56\"/>\n       <use x=\"63.623047\" xlink:href=\"#DejaVuSans-48\"/>\n      </g>\n     </g>\n    </g>\n    <g id=\"xtick_6\">\n     <g id=\"line2d_6\">\n      <g>\n       <use style=\"stroke:#000000;stroke-width:0.8;\" x=\"383.990625\" xlink:href=\"#m6586a7a3e3\" y=\"224.64\"/>\n      </g>\n     </g>\n     <g id=\"text_6\">\n      <!-- 100 -->\n      <defs>\n       <path d=\"M 12.40625 8.296875 \nL 28.515625 8.296875 \nL 28.515625 63.921875 \nL 10.984375 60.40625 \nL 10.984375 69.390625 \nL 28.421875 72.90625 \nL 38.28125 72.90625 \nL 38.28125 8.296875 \nL 54.390625 8.296875 \nL 54.390625 0 \nL 12.40625 0 \nz\n\" id=\"DejaVuSans-49\"/>\n      </defs>\n      <g transform=\"translate(374.446875 239.238437)scale(0.1 -0.1)\">\n       <use xlink:href=\"#DejaVuSans-49\"/>\n       <use x=\"63.623047\" xlink:href=\"#DejaVuSans-48\"/>\n       <use x=\"127.246094\" xlink:href=\"#DejaVuSans-48\"/>\n      </g>\n     </g>\n    </g>\n   </g>\n   <g id=\"matplotlib.axis_2\">\n    <g id=\"ytick_1\">\n     <g id=\"line2d_7\">\n      <defs>\n       <path d=\"M 0 0 \nL -3.5 0 \n\" id=\"m91ad590b64\" style=\"stroke:#000000;stroke-width:0.8;\"/>\n      </defs>\n      <g>\n       <use style=\"stroke:#000000;stroke-width:0.8;\" x=\"49.190625\" xlink:href=\"#m91ad590b64\" y=\"215.344504\"/>\n      </g>\n     </g>\n     <g id=\"text_7\">\n      <!-- 0.0000 -->\n      <defs>\n       <path d=\"M 10.6875 12.40625 \nL 21 12.40625 \nL 21 0 \nL 10.6875 0 \nz\n\" id=\"DejaVuSans-46\"/>\n      </defs>\n      <g transform=\"translate(7.2 219.143722)scale(0.1 -0.1)\">\n       <use xlink:href=\"#DejaVuSans-48\"/>\n       <use x=\"63.623047\" xlink:href=\"#DejaVuSans-46\"/>\n       <use x=\"95.410156\" xlink:href=\"#DejaVuSans-48\"/>\n       <use x=\"159.033203\" xlink:href=\"#DejaVuSans-48\"/>\n       <use x=\"222.65625\" xlink:href=\"#DejaVuSans-48\"/>\n       <use x=\"286.279297\" xlink:href=\"#DejaVuSans-48\"/>\n      </g>\n     </g>\n    </g>\n    <g id=\"ytick_2\">\n     <g id=\"line2d_8\">\n      <g>\n       <use style=\"stroke:#000000;stroke-width:0.8;\" x=\"49.190625\" xlink:href=\"#m91ad590b64\" y=\"172.696509\"/>\n      </g>\n     </g>\n     <g id=\"text_8\">\n      <!-- 0.0002 -->\n      <g transform=\"translate(7.2 176.495727)scale(0.1 -0.1)\">\n       <use xlink:href=\"#DejaVuSans-48\"/>\n       <use x=\"63.623047\" xlink:href=\"#DejaVuSans-46\"/>\n       <use x=\"95.410156\" xlink:href=\"#DejaVuSans-48\"/>\n       <use x=\"159.033203\" xlink:href=\"#DejaVuSans-48\"/>\n       <use x=\"222.65625\" xlink:href=\"#DejaVuSans-48\"/>\n       <use x=\"286.279297\" xlink:href=\"#DejaVuSans-50\"/>\n      </g>\n     </g>\n    </g>\n    <g id=\"ytick_3\">\n     <g id=\"line2d_9\">\n      <g>\n       <use style=\"stroke:#000000;stroke-width:0.8;\" x=\"49.190625\" xlink:href=\"#m91ad590b64\" y=\"130.048514\"/>\n      </g>\n     </g>\n     <g id=\"text_9\">\n      <!-- 0.0004 -->\n      <g transform=\"translate(7.2 133.847733)scale(0.1 -0.1)\">\n       <use xlink:href=\"#DejaVuSans-48\"/>\n       <use x=\"63.623047\" xlink:href=\"#DejaVuSans-46\"/>\n       <use x=\"95.410156\" xlink:href=\"#DejaVuSans-48\"/>\n       <use x=\"159.033203\" xlink:href=\"#DejaVuSans-48\"/>\n       <use x=\"222.65625\" xlink:href=\"#DejaVuSans-48\"/>\n       <use x=\"286.279297\" xlink:href=\"#DejaVuSans-52\"/>\n      </g>\n     </g>\n    </g>\n    <g id=\"ytick_4\">\n     <g id=\"line2d_10\">\n      <g>\n       <use style=\"stroke:#000000;stroke-width:0.8;\" x=\"49.190625\" xlink:href=\"#m91ad590b64\" y=\"87.400519\"/>\n      </g>\n     </g>\n     <g id=\"text_10\">\n      <!-- 0.0006 -->\n      <g transform=\"translate(7.2 91.199738)scale(0.1 -0.1)\">\n       <use xlink:href=\"#DejaVuSans-48\"/>\n       <use x=\"63.623047\" xlink:href=\"#DejaVuSans-46\"/>\n       <use x=\"95.410156\" xlink:href=\"#DejaVuSans-48\"/>\n       <use x=\"159.033203\" xlink:href=\"#DejaVuSans-48\"/>\n       <use x=\"222.65625\" xlink:href=\"#DejaVuSans-48\"/>\n       <use x=\"286.279297\" xlink:href=\"#DejaVuSans-54\"/>\n      </g>\n     </g>\n    </g>\n    <g id=\"ytick_5\">\n     <g id=\"line2d_11\">\n      <g>\n       <use style=\"stroke:#000000;stroke-width:0.8;\" x=\"49.190625\" xlink:href=\"#m91ad590b64\" y=\"44.752524\"/>\n      </g>\n     </g>\n     <g id=\"text_11\">\n      <!-- 0.0008 -->\n      <g transform=\"translate(7.2 48.551743)scale(0.1 -0.1)\">\n       <use xlink:href=\"#DejaVuSans-48\"/>\n       <use x=\"63.623047\" xlink:href=\"#DejaVuSans-46\"/>\n       <use x=\"95.410156\" xlink:href=\"#DejaVuSans-48\"/>\n       <use x=\"159.033203\" xlink:href=\"#DejaVuSans-48\"/>\n       <use x=\"222.65625\" xlink:href=\"#DejaVuSans-48\"/>\n       <use x=\"286.279297\" xlink:href=\"#DejaVuSans-56\"/>\n      </g>\n     </g>\n    </g>\n   </g>\n   <g id=\"line2d_12\">\n    <path clip-path=\"url(#p4f4e63fc66)\" d=\"M 49.190625 17.083636 \nL 52.538625 47.583441 \nL 55.886625 93.245542 \nL 59.234625 208.10051 \nL 62.582625 164.853659 \nL 65.930625 111.445371 \nL 69.278625 150.819253 \nL 72.626625 194.761953 \nL 75.974625 183.385893 \nL 79.322625 161.062794 \nL 82.670625 176.560862 \nL 86.018625 206.409436 \nL 89.366625 208.574698 \nL 92.714625 186.516886 \nL 96.062625 177.321308 \nL 99.410625 191.985008 \nL 102.758625 206.763795 \nL 106.106625 204.035567 \nL 109.454625 195.220953 \nL 112.802625 198.212699 \nL 116.150625 209.31178 \nL 119.498625 212.335212 \nL 122.846625 204.511974 \nL 126.194625 199.194588 \nL 129.542625 204.011659 \nL 132.890625 210.831575 \nL 136.238625 210.595161 \nL 139.586625 206.762935 \nL 142.934625 207.557363 \nL 146.282625 212.074619 \nL 149.630625 213.08813 \nL 152.978625 209.609831 \nL 156.326625 207.890469 \nL 159.674625 210.569901 \nL 163.022625 213.111972 \nL 166.370625 212.235269 \nL 169.718625 210.869382 \nL 173.066625 212.063588 \nL 176.414625 213.723724 \nL 179.762625 213.02474 \nL 183.110625 211.533678 \nL 186.458625 212.015642 \nL 189.806625 213.535288 \nL 193.154625 213.65784 \nL 196.502625 212.865369 \nL 199.850625 213.095512 \nL 203.198625 213.948281 \nL 206.546625 213.811636 \nL 209.894625 213.100598 \nL 213.242625 213.272234 \nL 216.590625 214.000539 \nL 219.938625 214.051278 \nL 223.286625 213.683562 \nL 226.634625 213.844002 \nL 229.982625 214.215107 \nL 233.330625 214.061875 \nL 236.678625 213.786112 \nL 240.026625 214.002932 \nL 243.374625 214.305062 \nL 246.722625 214.211629 \nL 250.070625 214.097506 \nL 253.418625 214.269634 \nL 256.766625 214.359411 \nL 260.114625 214.212685 \nL 263.462625 214.200789 \nL 266.810625 214.381481 \nL 270.158625 214.422711 \nL 273.506625 214.338404 \nL 276.854625 214.382109 \nL 280.202625 214.468275 \nL 283.550625 214.423928 \nL 286.898625 214.390241 \nL 290.246625 214.475679 \nL 293.594625 214.523832 \nL 296.942625 214.48611 \nL 300.290625 214.498706 \nL 303.638625 214.550202 \nL 306.986625 214.538854 \nL 310.334625 214.523112 \nL 313.682625 214.568808 \nL 317.030625 214.598152 \nL 320.378625 214.58278 \nL 323.726625 214.59393 \nL 327.074625 214.623064 \nL 330.422625 214.61941 \nL 333.770625 214.6187 \nL 337.118625 214.647713 \nL 340.466625 214.661814 \nL 343.814625 214.657314 \nL 347.162625 214.670618 \nL 350.510625 214.68659 \nL 353.858625 214.685929 \nL 357.206625 214.693883 \nL 360.554625 214.712699 \nL 363.902625 214.718573 \nL 367.250625 214.721273 \nL 370.598625 214.73415 \nL 373.946625 214.74232 \nL 377.294625 214.745273 \nL 380.642625 214.756364 \n\" style=\"fill:none;stroke:#1f77b4;stroke-linecap:square;stroke-width:1.5;\"/>\n   </g>\n   <g id=\"line2d_13\">\n    <path clip-path=\"url(#p4f4e63fc66)\" d=\"M 49.190625 17.083636 \nL 383.990625 17.083636 \n\" style=\"fill:none;stroke:#ff0000;stroke-linecap:square;stroke-width:1.5;\"/>\n   </g>\n   <g id=\"patch_3\">\n    <path d=\"M 49.190625 224.64 \nL 49.190625 7.2 \n\" style=\"fill:none;stroke:#000000;stroke-linecap:square;stroke-linejoin:miter;stroke-width:0.8;\"/>\n   </g>\n   <g id=\"patch_4\">\n    <path d=\"M 383.990625 224.64 \nL 383.990625 7.2 \n\" style=\"fill:none;stroke:#000000;stroke-linecap:square;stroke-linejoin:miter;stroke-width:0.8;\"/>\n   </g>\n   <g id=\"patch_5\">\n    <path d=\"M 49.190625 224.64 \nL 383.990625 224.64 \n\" style=\"fill:none;stroke:#000000;stroke-linecap:square;stroke-linejoin:miter;stroke-width:0.8;\"/>\n   </g>\n   <g id=\"patch_6\">\n    <path d=\"M 49.190625 7.2 \nL 383.990625 7.2 \n\" style=\"fill:none;stroke:#000000;stroke-linecap:square;stroke-linejoin:miter;stroke-width:0.8;\"/>\n   </g>\n  </g>\n </g>\n <defs>\n  <clipPath id=\"p4f4e63fc66\">\n   <rect height=\"217.44\" width=\"334.8\" x=\"49.190625\" y=\"7.2\"/>\n  </clipPath>\n </defs>\n</svg>\n",
      "image/png": "[encoded data removed]"
     },
     "metadata": {
      "needs_background": "light"
     }
    }
   ],
   "source": [
    "function_f = lambda model, x: get_binary_prediction(model, x, classes=[0, 1])\n",
    "history = [] #np.zeros()\n",
    "x = x_new[20:21]\n",
    "fig = plt.figure()\n",
    "for it in range(args.n_cv_iter):\n",
    "    ncv_optimizer.zero_grad()\n",
    "    mc_variance, no_cv_variance = compute_naive_variance(function_f, neural_control_variate, models, x)\n",
    "    history.append(mc_variance.sum().item())\n",
    "    mc_variance.backward()\n",
    "    ncv_optimizer.step()\n",
    "\n",
    "plt.plot(np.arange(it+1), history)\n",
    "plt.axhline(y=no_cv_variance, color='r', linestyle='-')\n",
    "plt.xlim(0, args.n_cv_iter)\n",
    "plt.show()"
   ]
  },
  {
   "cell_type": "code",
   "execution_count": 137,
   "metadata": {},
   "outputs": [],
   "source": [
    "from uncertainty_quantification import ClassificationUncertaintyMCMC"
   ]
  },
  {
   "cell_type": "code",
   "execution_count": 138,
   "metadata": {
    "tags": []
   },
   "outputs": [
    {
     "output_type": "execute_result",
     "data": {
      "text/plain": "(tensor(0.9494, grad_fn=<SubBackward0>),\n tensor(0.0009, grad_fn=<DivBackward0>))"
     },
     "metadata": {},
     "execution_count": 138
    }
   ],
   "source": [
    "uncertainty_qunt = ClassificationUncertaintyMCMC(models, neural_control_variate)\n",
    "\n",
    "mean = uncertainty_qunt.estimate_emperical_mean(x_new[20:21])\n",
    "variance = uncertainty_qunt.estimate_emperical_variance(x_new[20:21])\n",
    "\n",
    "mean, variance"
   ]
  },
  {
   "cell_type": "code",
   "execution_count": 139,
   "metadata": {
    "tags": []
   },
   "outputs": [
    {
     "output_type": "execute_result",
     "data": {
      "text/plain": "(tensor(1., grad_fn=<SubBackward0>), tensor(0., grad_fn=<DivBackward0>))"
     },
     "metadata": {},
     "execution_count": 139
    }
   ],
   "source": [
    "uncertainty_qunt = ClassificationUncertaintyMCMC(models, None)\n",
    "\n",
    "mean = uncertainty_qunt.estimate_emperical_mean(x_new[20:21])\n",
    "variance = uncertainty_qunt.estimate_emperical_variance(x_new[20:21])\n",
    "\n",
    "mean, variance"
   ]
  }
 ],
 "metadata": {
  "kernelspec": {
   "display_name": "Python 3",
   "language": "python",
   "name": "python3"
  },
  "language_info": {
   "codemirror_mode": {
    "name": "ipython",
    "version": 3
   },
   "file_extension": ".py",
   "mimetype": "text/x-python",
   "name": "python",
   "nbconvert_exporter": "python",
   "pygments_lexer": "ipython3",
   "version": "3.7.4-final"
  }
 },
 "nbformat": 4,
 "nbformat_minor": 2
}