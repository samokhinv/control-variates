{
 "metadata": {
  "language_info": {
   "codemirror_mode": {
    "name": "ipython",
    "version": 3
   },
   "file_extension": ".py",
   "mimetype": "text/x-python",
   "name": "python",
   "nbconvert_exporter": "python",
   "pygments_lexer": "ipython3",
   "version": "3.8.2-final"
  },
  "orig_nbformat": 2,
  "kernelspec": {
   "name": "python_defaultSpec_1599477985808",
   "display_name": "Python 3.8.2 64-bit"
  }
 },
 "nbformat": 4,
 "nbformat_minor": 2,
 "cells": [
  {
   "cell_type": "code",
   "execution_count": 68,
   "metadata": {},
   "outputs": [],
   "source": [
    "import pandas as pd\n",
    "import numpy as np \n",
    "\n",
    "import torch\n",
    "from torch.utils.data import Dataset, TensorDataset, DataLoader\n",
    "\n",
    "import dill as pickle\n",
    "from pathlib import Path\n",
    "\n",
    "import sklearn\n",
    "from sklearn.model_selection import train_test_split"
   ]
  },
  {
   "cell_type": "code",
   "execution_count": 19,
   "metadata": {},
   "outputs": [],
   "source": [
    "df = pd.read_csv('../../data/UCI_telescope/magic04.data', header=None)"
   ]
  },
  {
   "cell_type": "code",
   "execution_count": 22,
   "metadata": {
    "tags": []
   },
   "outputs": [],
   "source": [
    "df.loc[:, 10].replace({\"g\": 1, \"h\": 0}, inplace=True)"
   ]
  },
  {
   "cell_type": "code",
   "execution_count": 36,
   "metadata": {},
   "outputs": [
    {
     "output_type": "execute_result",
     "data": {
      "text/plain": "             0         1       2       3       4         5         6   \\\n0       28.7967   16.0021  2.6449  0.3918  0.1982   27.7004   22.0110   \n1       31.6036   11.7235  2.5185  0.5303  0.3773   26.2722   23.8238   \n2      162.0520  136.0310  4.0612  0.0374  0.0187  116.7410  -64.8580   \n3       23.8172    9.5728  2.3385  0.6147  0.3922   27.2107   -6.4633   \n4       75.1362   30.9205  3.1611  0.3168  0.1832   -5.5277   28.5525   \n...         ...       ...     ...     ...     ...       ...       ...   \n19015   21.3846   10.9170  2.6161  0.5857  0.3934   15.2618   11.5245   \n19016   28.9452    6.7020  2.2672  0.5351  0.2784   37.0816   13.1853   \n19017   75.4455   47.5305  3.4483  0.1417  0.0549   -9.3561   41.0562   \n19018  120.5135   76.9018  3.9939  0.0944  0.0683    5.8043  -93.5224   \n19019  187.1814   53.0014  3.2093  0.2876  0.1539 -167.3125 -168.4558   \n\n            7        8         9   10  \n0      -8.2027  40.0920   81.8828   1  \n1      -9.9574   6.3609  205.2610   1  \n2     -45.2160  76.9600  256.7880   1  \n3      -7.1513  10.4490  116.7370   1  \n4      21.8393   4.6480  356.4620   1  \n...        ...      ...       ...  ..  \n19015   2.8766   2.4229  106.8258   0  \n19016  -2.9632  86.7975  247.4560   0  \n19017  -9.4662  30.2987  256.5166   0  \n19018 -63.8389  84.6874  408.3166   0  \n19019  31.4755  52.7310  272.3174   0  \n\n[19020 rows x 11 columns]",
      "text/html": "<div>\n<style scoped>\n    .dataframe tbody tr th:only-of-type {\n        vertical-align: middle;\n    }\n\n    .dataframe tbody tr th {\n        vertical-align: top;\n    }\n\n    .dataframe thead th {\n        text-align: right;\n    }\n</style>\n<table border=\"1\" class=\"dataframe\">\n  <thead>\n    <tr style=\"text-align: right;\">\n      <th></th>\n      <th>0</th>\n      <th>1</th>\n      <th>2</th>\n      <th>3</th>\n      <th>4</th>\n      <th>5</th>\n      <th>6</th>\n      <th>7</th>\n      <th>8</th>\n      <th>9</th>\n      <th>10</th>\n    </tr>\n  </thead>\n  <tbody>\n    <tr>\n      <th>0</th>\n      <td>28.7967</td>\n      <td>16.0021</td>\n      <td>2.6449</td>\n      <td>0.3918</td>\n      <td>0.1982</td>\n      <td>27.7004</td>\n      <td>22.0110</td>\n      <td>-8.2027</td>\n      <td>40.0920</td>\n      <td>81.8828</td>\n      <td>1</td>\n    </tr>\n    <tr>\n      <th>1</th>\n      <td>31.6036</td>\n      <td>11.7235</td>\n      <td>2.5185</td>\n      <td>0.5303</td>\n      <td>0.3773</td>\n      <td>26.2722</td>\n      <td>23.8238</td>\n      <td>-9.9574</td>\n      <td>6.3609</td>\n      <td>205.2610</td>\n      <td>1</td>\n    </tr>\n    <tr>\n      <th>2</th>\n      <td>162.0520</td>\n      <td>136.0310</td>\n      <td>4.0612</td>\n      <td>0.0374</td>\n      <td>0.0187</td>\n      <td>116.7410</td>\n      <td>-64.8580</td>\n      <td>-45.2160</td>\n      <td>76.9600</td>\n      <td>256.7880</td>\n      <td>1</td>\n    </tr>\n    <tr>\n      <th>3</th>\n      <td>23.8172</td>\n      <td>9.5728</td>\n      <td>2.3385</td>\n      <td>0.6147</td>\n      <td>0.3922</td>\n      <td>27.2107</td>\n      <td>-6.4633</td>\n      <td>-7.1513</td>\n      <td>10.4490</td>\n      <td>116.7370</td>\n      <td>1</td>\n    </tr>\n    <tr>\n      <th>4</th>\n      <td>75.1362</td>\n      <td>30.9205</td>\n      <td>3.1611</td>\n      <td>0.3168</td>\n      <td>0.1832</td>\n      <td>-5.5277</td>\n      <td>28.5525</td>\n      <td>21.8393</td>\n      <td>4.6480</td>\n      <td>356.4620</td>\n      <td>1</td>\n    </tr>\n    <tr>\n      <th>...</th>\n      <td>...</td>\n      <td>...</td>\n      <td>...</td>\n      <td>...</td>\n      <td>...</td>\n      <td>...</td>\n      <td>...</td>\n      <td>...</td>\n      <td>...</td>\n      <td>...</td>\n      <td>...</td>\n    </tr>\n    <tr>\n      <th>19015</th>\n      <td>21.3846</td>\n      <td>10.9170</td>\n      <td>2.6161</td>\n      <td>0.5857</td>\n      <td>0.3934</td>\n      <td>15.2618</td>\n      <td>11.5245</td>\n      <td>2.8766</td>\n      <td>2.4229</td>\n      <td>106.8258</td>\n      <td>0</td>\n    </tr>\n    <tr>\n      <th>19016</th>\n      <td>28.9452</td>\n      <td>6.7020</td>\n      <td>2.2672</td>\n      <td>0.5351</td>\n      <td>0.2784</td>\n      <td>37.0816</td>\n      <td>13.1853</td>\n      <td>-2.9632</td>\n      <td>86.7975</td>\n      <td>247.4560</td>\n      <td>0</td>\n    </tr>\n    <tr>\n      <th>19017</th>\n      <td>75.4455</td>\n      <td>47.5305</td>\n      <td>3.4483</td>\n      <td>0.1417</td>\n      <td>0.0549</td>\n      <td>-9.3561</td>\n      <td>41.0562</td>\n      <td>-9.4662</td>\n      <td>30.2987</td>\n      <td>256.5166</td>\n      <td>0</td>\n    </tr>\n    <tr>\n      <th>19018</th>\n      <td>120.5135</td>\n      <td>76.9018</td>\n      <td>3.9939</td>\n      <td>0.0944</td>\n      <td>0.0683</td>\n      <td>5.8043</td>\n      <td>-93.5224</td>\n      <td>-63.8389</td>\n      <td>84.6874</td>\n      <td>408.3166</td>\n      <td>0</td>\n    </tr>\n    <tr>\n      <th>19019</th>\n      <td>187.1814</td>\n      <td>53.0014</td>\n      <td>3.2093</td>\n      <td>0.2876</td>\n      <td>0.1539</td>\n      <td>-167.3125</td>\n      <td>-168.4558</td>\n      <td>31.4755</td>\n      <td>52.7310</td>\n      <td>272.3174</td>\n      <td>0</td>\n    </tr>\n  </tbody>\n</table>\n<p>19020 rows × 11 columns</p>\n</div>"
     },
     "metadata": {},
     "execution_count": 36
    }
   ],
   "source": [
    "df"
   ]
  },
  {
   "cell_type": "code",
   "execution_count": 37,
   "metadata": {},
   "outputs": [],
   "source": [
    "X, Y = np.asarray(df.loc[:, :9]), np.asarray(df.loc[:, 10])"
   ]
  },
  {
   "cell_type": "code",
   "execution_count": 62,
   "metadata": {},
   "outputs": [],
   "source": [
    "x_tr, x_test, y_tr, y_test = train_test_split(X, Y, test_size=0.1)"
   ]
  },
  {
   "cell_type": "code",
   "execution_count": 78,
   "metadata": {},
   "outputs": [],
   "source": [
    "tr_dataset = []\n",
    "for x, y in zip(x_tr, y_tr):\n",
    "    tr_dataset.append((torch.tensor(x).float(), torch.tensor(y).long()))\n",
    "\n",
    "test_dataset = []\n",
    "for x, y in zip(x_test, y_test):\n",
    "    test_dataset.append((torch.tensor(x).float(), torch.tensor(y).long()))"
   ]
  },
  {
   "cell_type": "code",
   "execution_count": 79,
   "metadata": {},
   "outputs": [],
   "source": [
    "with Path('../../data/UCI_telescope/tr_dataset.pkl').open('wb') as fp:\n",
    "    pickle.dump(tr_dataset, fp)\n",
    "\n",
    "with Path('../../data/UCI_telescope/test_dataset.pkl').open('wb') as fp:\n",
    "    pickle.dump(test_dataset, fp)"
   ]
  },
  {
   "cell_type": "code",
   "execution_count": 80,
   "metadata": {},
   "outputs": [],
   "source": [
    "train_loader = DataLoader(tr_dataset, batch_size=3)"
   ]
  },
  {
   "cell_type": "code",
   "execution_count": 81,
   "metadata": {},
   "outputs": [],
   "source": [
    "x, y = next(iter(train_loader))"
   ]
  },
  {
   "cell_type": "code",
   "execution_count": 82,
   "metadata": {},
   "outputs": [
    {
     "output_type": "execute_result",
     "data": {
      "text/plain": "tensor([[ 2.0506e+01,  1.2823e+01,  2.3531e+00,  5.1000e-01,  2.6830e-01,\n          9.9865e+00,  1.4066e+01,  8.7369e+00,  1.7010e+00,  2.0563e+02],\n        [ 1.8649e+02,  6.2643e+01,  3.5001e+00,  1.4580e-01,  1.1070e-01,\n         -2.5073e+02, -7.7938e+01,  5.4655e+01,  6.7958e+01,  2.5620e+02],\n        [ 4.3649e+01,  1.7184e+01,  2.7846e+00,  2.4960e-01,  1.3550e-01,\n          3.6979e+01, -2.5997e+01,  1.1346e+01,  3.5170e+00,  1.9496e+02]])"
     },
     "metadata": {},
     "execution_count": 82
    }
   ],
   "source": [
    "x"
   ]
  },
  {
   "cell_type": "code",
   "execution_count": 83,
   "metadata": {},
   "outputs": [],
   "source": [
    "df = pd.read_csv('../../data/UCI_EEG/dataset.csv', header=None)"
   ]
  },
  {
   "cell_type": "code",
   "execution_count": 84,
   "metadata": {},
   "outputs": [
    {
     "output_type": "execute_result",
     "data": {
      "text/plain": "            0        1        2        3        4        5        6        7   \\\n0      4329.23  4009.23  4289.23  4148.21  4350.26  4586.15  4096.92  4641.03   \n1      4324.62  4004.62  4293.85  4148.72  4342.05  4586.67  4097.44  4638.97   \n2      4327.69  4006.67  4295.38  4156.41  4336.92  4583.59  4096.92  4630.26   \n3      4328.72  4011.79  4296.41  4155.90  4343.59  4582.56  4097.44  4630.77   \n4      4326.15  4011.79  4292.31  4151.28  4347.69  4586.67  4095.90  4627.69   \n...        ...      ...      ...      ...      ...      ...      ...      ...   \n14975  4281.03  3990.26  4245.64  4116.92  4333.85  4614.36  4074.87  4625.64   \n14976  4276.92  3991.79  4245.13  4110.77  4332.82  4615.38  4073.33  4621.54   \n14977  4277.44  3990.77  4246.67  4113.85  4333.33  4615.38  4072.82  4623.59   \n14978  4284.62  3991.79  4251.28  4122.05  4334.36  4616.41  4080.51  4628.72   \n14979  4287.69  3997.44  4260.00  4121.03  4333.33  4616.41  4088.72  4638.46   \n\n            8        9        10       11       12       13  14  \n0      4222.05  4238.46  4211.28  4280.51  4635.90  4393.85   0  \n1      4210.77  4226.67  4207.69  4279.49  4632.82  4384.10   0  \n2      4207.69  4222.05  4206.67  4282.05  4628.72  4389.23   0  \n3      4217.44  4235.38  4210.77  4287.69  4632.31  4396.41   0  \n4      4210.77  4244.10  4212.82  4288.21  4632.82  4398.46   0  \n...        ...      ...      ...      ...      ...      ...  ..  \n14975  4203.08  4221.54  4171.28  4269.23  4593.33  4340.51   1  \n14976  4194.36  4217.44  4162.56  4259.49  4590.26  4333.33   1  \n14977  4193.33  4212.82  4160.51  4257.95  4591.79  4339.49   1  \n14978  4200.00  4220.00  4165.64  4267.18  4596.41  4350.77   1  \n14979  4212.31  4226.67  4167.69  4274.36  4597.95  4350.77   1  \n\n[14980 rows x 15 columns]",
      "text/html": "<div>\n<style scoped>\n    .dataframe tbody tr th:only-of-type {\n        vertical-align: middle;\n    }\n\n    .dataframe tbody tr th {\n        vertical-align: top;\n    }\n\n    .dataframe thead th {\n        text-align: right;\n    }\n</style>\n<table border=\"1\" class=\"dataframe\">\n  <thead>\n    <tr style=\"text-align: right;\">\n      <th></th>\n      <th>0</th>\n      <th>1</th>\n      <th>2</th>\n      <th>3</th>\n      <th>4</th>\n      <th>5</th>\n      <th>6</th>\n      <th>7</th>\n      <th>8</th>\n      <th>9</th>\n      <th>10</th>\n      <th>11</th>\n      <th>12</th>\n      <th>13</th>\n      <th>14</th>\n    </tr>\n  </thead>\n  <tbody>\n    <tr>\n      <th>0</th>\n      <td>4329.23</td>\n      <td>4009.23</td>\n      <td>4289.23</td>\n      <td>4148.21</td>\n      <td>4350.26</td>\n      <td>4586.15</td>\n      <td>4096.92</td>\n      <td>4641.03</td>\n      <td>4222.05</td>\n      <td>4238.46</td>\n      <td>4211.28</td>\n      <td>4280.51</td>\n      <td>4635.90</td>\n      <td>4393.85</td>\n      <td>0</td>\n    </tr>\n    <tr>\n      <th>1</th>\n      <td>4324.62</td>\n      <td>4004.62</td>\n      <td>4293.85</td>\n      <td>4148.72</td>\n      <td>4342.05</td>\n      <td>4586.67</td>\n      <td>4097.44</td>\n      <td>4638.97</td>\n      <td>4210.77</td>\n      <td>4226.67</td>\n      <td>4207.69</td>\n      <td>4279.49</td>\n      <td>4632.82</td>\n      <td>4384.10</td>\n      <td>0</td>\n    </tr>\n    <tr>\n      <th>2</th>\n      <td>4327.69</td>\n      <td>4006.67</td>\n      <td>4295.38</td>\n      <td>4156.41</td>\n      <td>4336.92</td>\n      <td>4583.59</td>\n      <td>4096.92</td>\n      <td>4630.26</td>\n      <td>4207.69</td>\n      <td>4222.05</td>\n      <td>4206.67</td>\n      <td>4282.05</td>\n      <td>4628.72</td>\n      <td>4389.23</td>\n      <td>0</td>\n    </tr>\n    <tr>\n      <th>3</th>\n      <td>4328.72</td>\n      <td>4011.79</td>\n      <td>4296.41</td>\n      <td>4155.90</td>\n      <td>4343.59</td>\n      <td>4582.56</td>\n      <td>4097.44</td>\n      <td>4630.77</td>\n      <td>4217.44</td>\n      <td>4235.38</td>\n      <td>4210.77</td>\n      <td>4287.69</td>\n      <td>4632.31</td>\n      <td>4396.41</td>\n      <td>0</td>\n    </tr>\n    <tr>\n      <th>4</th>\n      <td>4326.15</td>\n      <td>4011.79</td>\n      <td>4292.31</td>\n      <td>4151.28</td>\n      <td>4347.69</td>\n      <td>4586.67</td>\n      <td>4095.90</td>\n      <td>4627.69</td>\n      <td>4210.77</td>\n      <td>4244.10</td>\n      <td>4212.82</td>\n      <td>4288.21</td>\n      <td>4632.82</td>\n      <td>4398.46</td>\n      <td>0</td>\n    </tr>\n    <tr>\n      <th>...</th>\n      <td>...</td>\n      <td>...</td>\n      <td>...</td>\n      <td>...</td>\n      <td>...</td>\n      <td>...</td>\n      <td>...</td>\n      <td>...</td>\n      <td>...</td>\n      <td>...</td>\n      <td>...</td>\n      <td>...</td>\n      <td>...</td>\n      <td>...</td>\n      <td>...</td>\n    </tr>\n    <tr>\n      <th>14975</th>\n      <td>4281.03</td>\n      <td>3990.26</td>\n      <td>4245.64</td>\n      <td>4116.92</td>\n      <td>4333.85</td>\n      <td>4614.36</td>\n      <td>4074.87</td>\n      <td>4625.64</td>\n      <td>4203.08</td>\n      <td>4221.54</td>\n      <td>4171.28</td>\n      <td>4269.23</td>\n      <td>4593.33</td>\n      <td>4340.51</td>\n      <td>1</td>\n    </tr>\n    <tr>\n      <th>14976</th>\n      <td>4276.92</td>\n      <td>3991.79</td>\n      <td>4245.13</td>\n      <td>4110.77</td>\n      <td>4332.82</td>\n      <td>4615.38</td>\n      <td>4073.33</td>\n      <td>4621.54</td>\n      <td>4194.36</td>\n      <td>4217.44</td>\n      <td>4162.56</td>\n      <td>4259.49</td>\n      <td>4590.26</td>\n      <td>4333.33</td>\n      <td>1</td>\n    </tr>\n    <tr>\n      <th>14977</th>\n      <td>4277.44</td>\n      <td>3990.77</td>\n      <td>4246.67</td>\n      <td>4113.85</td>\n      <td>4333.33</td>\n      <td>4615.38</td>\n      <td>4072.82</td>\n      <td>4623.59</td>\n      <td>4193.33</td>\n      <td>4212.82</td>\n      <td>4160.51</td>\n      <td>4257.95</td>\n      <td>4591.79</td>\n      <td>4339.49</td>\n      <td>1</td>\n    </tr>\n    <tr>\n      <th>14978</th>\n      <td>4284.62</td>\n      <td>3991.79</td>\n      <td>4251.28</td>\n      <td>4122.05</td>\n      <td>4334.36</td>\n      <td>4616.41</td>\n      <td>4080.51</td>\n      <td>4628.72</td>\n      <td>4200.00</td>\n      <td>4220.00</td>\n      <td>4165.64</td>\n      <td>4267.18</td>\n      <td>4596.41</td>\n      <td>4350.77</td>\n      <td>1</td>\n    </tr>\n    <tr>\n      <th>14979</th>\n      <td>4287.69</td>\n      <td>3997.44</td>\n      <td>4260.00</td>\n      <td>4121.03</td>\n      <td>4333.33</td>\n      <td>4616.41</td>\n      <td>4088.72</td>\n      <td>4638.46</td>\n      <td>4212.31</td>\n      <td>4226.67</td>\n      <td>4167.69</td>\n      <td>4274.36</td>\n      <td>4597.95</td>\n      <td>4350.77</td>\n      <td>1</td>\n    </tr>\n  </tbody>\n</table>\n<p>14980 rows × 15 columns</p>\n</div>"
     },
     "metadata": {},
     "execution_count": 84
    }
   ],
   "source": [
    "df"
   ]
  },
  {
   "cell_type": "code",
   "execution_count": 87,
   "metadata": {},
   "outputs": [],
   "source": [
    "X, Y = np.asarray(df.loc[:, :13]), np.asarray(df.loc[:, 14])\n",
    "x_tr, x_test, y_tr, y_test = train_test_split(X, Y, test_size=0.15)\n",
    "\n",
    "tr_dataset = []\n",
    "for x, y in zip(x_tr, y_tr):\n",
    "    tr_dataset.append((torch.tensor(x).float(), torch.tensor(y).long()))\n",
    "\n",
    "test_dataset = []\n",
    "for x, y in zip(x_test, y_test):\n",
    "    test_dataset.append((torch.tensor(x).float(), torch.tensor(y).long()))\n",
    "\n",
    "with Path('../../data/UCI_EEG/tr_dataset.pkl').open('wb') as fp:\n",
    "    pickle.dump(tr_dataset, fp)\n",
    "\n",
    "with Path('../../data/UCI_EEG/test_dataset.pkl').open('wb') as fp:\n",
    "    pickle.dump(test_dataset, fp)"
   ]
  },
  {
   "cell_type": "code",
   "execution_count": 88,
   "metadata": {},
   "outputs": [],
   "source": [
    "train_loader = DataLoader(tr_dataset, batch_size=3)\n",
    "x, y = next(iter(train_loader))"
   ]
  },
  {
   "cell_type": "code",
   "execution_count": 89,
   "metadata": {},
   "outputs": [
    {
     "output_type": "execute_result",
     "data": {
      "text/plain": "tensor([[4220.0000, 3972.8201, 4216.9199, 4093.8501, 4332.8198, 4616.4102,\n         4071.7900, 4607.6899, 4206.1499, 4224.1001, 4174.3599, 4243.5898,\n         4548.7202, 4290.7700],\n        [4287.6899, 3984.1001, 4263.0801, 4105.6401, 4328.7202, 4606.1499,\n         4051.2800, 4624.6201, 4195.3799, 4229.7402, 4192.8198, 4276.4102,\n         4591.7900, 4357.9502],\n        [4294.8701, 4014.3601, 4263.0801, 4136.9199, 4346.6699, 4621.5400,\n         4081.5400, 4606.1499, 4183.5898, 4223.5898, 4198.4600, 4257.9502,\n         4587.1802, 4358.9702]])"
     },
     "metadata": {},
     "execution_count": 89
    }
   ],
   "source": [
    "x"
   ]
  },
  {
   "cell_type": "code",
   "execution_count": null,
   "metadata": {},
   "outputs": [],
   "source": []
  }
 ]
}