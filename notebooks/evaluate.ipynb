{
  "nbformat": 4,
  "nbformat_minor": 0,
  "metadata": {
    "kernelspec": {
      "display_name": "Python 3",
      "language": "python",
      "name": "python3"
    },
    "language_info": {
      "codemirror_mode": {
        "name": "ipython",
        "version": 3
      },
      "file_extension": ".py",
      "mimetype": "text/x-python",
      "name": "python",
      "nbconvert_exporter": "python",
      "pygments_lexer": "ipython3",
      "version": "3.7.4-final"
    },
    "colab": {
      "name": "evaluate.ipynb",
      "provenance": [],
      "toc_visible": true
    }
  },
  "cells": [
    {
      "cell_type": "code",
      "metadata": {
        "id": "Sx8X8uHlqeHb",
        "colab_type": "code",
        "colab": {
          "base_uri": "https://localhost:8080/",
          "height": 34
        },
        "outputId": "964650a6-60c9-4c71-c28e-e071983db0f0"
      },
      "source": [
        "from google.colab import drive\n",
        "drive.mount('/content/drive', force_remount=True)"
      ],
      "execution_count": null,
      "outputs": [
        {
          "output_type": "stream",
          "text": [
            "Mounted at /content/drive\n"
          ],
          "name": "stdout"
        }
      ]
    },
    {
      "cell_type": "code",
      "metadata": {
        "id": "Yhd-g-MJCiBd",
        "colab_type": "code",
        "colab": {
          "base_uri": "https://localhost:8080/",
          "height": 34
        },
        "outputId": "4ecf6c21-9350-48b9-cef3-9ecd303420a8"
      },
      "source": [
        "!git clone https://github.com/samokhinv/control-variates.git"
      ],
      "execution_count": null,
      "outputs": [
        {
          "output_type": "stream",
          "text": [
            "fatal: destination path 'control-variates' already exists and is not an empty directory.\n"
          ],
          "name": "stdout"
        }
      ]
    },
    {
      "cell_type": "code",
      "metadata": {
        "id": "mxzdZwjRqP4y",
        "colab_type": "code",
        "colab": {}
      },
      "source": [
        "import sys\n",
        "#sys.path.append('..')\n",
        "sys.path.append('control-variates')\n",
        "from control_variates.uncertainty_quantification import ClassificationUncertaintyMCMC\n",
        "import dill as pickle\n",
        "from mnist_utils import load_mnist_dataset\n",
        "from control_variates.model import LogRegression\n",
        "from control_variates.cv import PsyLinear, SteinCV, PsyConstVector\n",
        "from control_variates.cv_utils import state_dict_to_vec, compute_naive_variance, compute_ll_div\n",
        "from control_variates.model import get_binary_prediction\n",
        "import numpy as np\n",
        "import seaborn as sns\n",
        "import matplotlib.pyplot as plt\n",
        "from tqdm import tqdm"
      ],
      "execution_count": null,
      "outputs": []
    },
    {
      "cell_type": "code",
      "metadata": {
        "id": "qxQd6R59qP5g",
        "colab_type": "code",
        "colab": {}
      },
      "source": [
        "with open('drive/My Drive/saved_samples/mnist_weights/sgld_samples.pkl', 'rb') as fp:\n",
        "    samples = pickle.load(fp)\n",
        "# with open('../../saved_samples/mnist_weights/30_samples_seed-1.pkl', 'rb') as fp:\n",
        "#     samples = pickle.load(fp)"
      ],
      "execution_count": null,
      "outputs": []
    },
    {
      "cell_type": "code",
      "metadata": {
        "id": "fUapJEpPqP5u",
        "colab_type": "code",
        "colab": {}
      },
      "source": [
        "with open('drive/My Drive/saved_samples/mnist_weights/sgld_linear_cv_reg.pkl', 'rb') as fp:\n",
        "    psy_weights = pickle.load(fp)\n",
        "# with open('../../data/psy_weights.pckl', 'rb') as fp:\n",
        "#     psy_weights = pickle.load(fp)"
      ],
      "execution_count": null,
      "outputs": []
    },
    {
      "cell_type": "code",
      "metadata": {
        "id": "zmnMd3dfqP6n",
        "colab_type": "code",
        "colab": {}
      },
      "source": [
        "samples = samples[:len(psy_weights)]\n",
        "#samples = [(x[0][::5], x[1]) for x in samples] "
      ],
      "execution_count": null,
      "outputs": []
    },
    {
      "cell_type": "code",
      "metadata": {
        "id": "1C0VfgaKK9ud",
        "colab_type": "code",
        "colab": {
          "base_uri": "https://localhost:8080/",
          "height": 34
        },
        "outputId": "460a8fd9-dcd8-47e4-b58c-41503d23f905"
      },
      "source": [
        "print(len(samples[0][0]))"
      ],
      "execution_count": null,
      "outputs": [
        {
          "output_type": "stream",
          "text": [
            "200\n"
          ],
          "name": "stdout"
        }
      ]
    },
    {
      "cell_type": "code",
      "metadata": {
        "id": "wwpnslhBqP78",
        "colab_type": "code",
        "colab": {}
      },
      "source": [
        "\n",
        "train_dl, valid_dl = load_mnist_dataset('drive/My Drive/data/mnist/', 20000, [3, 5])"
      ],
      "execution_count": null,
      "outputs": []
    },
    {
      "cell_type": "code",
      "metadata": {
        "id": "WmxrhycBqP84",
        "colab_type": "code",
        "colab": {}
      },
      "source": [
        "x_new, y_new = next(iter(valid_dl))\n",
        "train_x, train_y = next(iter(train_dl))"
      ],
      "execution_count": null,
      "outputs": []
    },
    {
      "cell_type": "code",
      "metadata": {
        "id": "eJa89wlGDggp",
        "colab_type": "code",
        "colab": {}
      },
      "source": [
        "N_train = len(train_dl.dataset)"
      ],
      "execution_count": null,
      "outputs": []
    },
    {
      "cell_type": "code",
      "metadata": {
        "id": "LCf9b_LMqP9N",
        "colab_type": "code",
        "colab": {}
      },
      "source": [
        "trajectories = [[LogRegression(784)\n",
        "                 for j in range(len(samples[i][0]))]\n",
        "                for i in range(len(samples))]\n",
        "\n",
        "for i in range(len(samples)):\n",
        "    for j in range(len(samples[i][0])):\n",
        "        trajectories[i][j].load_state_dict(samples[i][0][j])\n",
        "\n",
        "priors = [samples[i][1] for i in range(len(samples))]\n",
        "\n",
        "ll_divs = [compute_ll_div(ms, train_x, train_y, N_train, priors=ps) for ms, ps in zip(trajectories, priors)]"
      ],
      "execution_count": null,
      "outputs": []
    },
    {
      "cell_type": "code",
      "metadata": {
        "id": "3gQ0XX8xqP9W",
        "colab_type": "code",
        "colab": {}
      },
      "source": [
        "# import random\n",
        "# random.seed(42)\n",
        "\n",
        "# traj, prior = samples[0]\n",
        "# new_samples = []\n",
        "# for _ in range(10):\n",
        "#     new_samples.append((random.sample(traj, 15), prior))\n",
        "\n",
        "\n",
        "# trajectories = [[LogRegression(784)\n",
        "#                  for j in range(len(new_samples[i][0]))]\n",
        "#                 for i in range(len(new_samples))]\n",
        "\n",
        "# for i in range(len(new_samples)):\n",
        "#     for j in range(len(new_samples[i][0])):\n",
        "#         trajectories[i][j].load_state_dict(new_samples[i][0][j])\n",
        "\n",
        "# priors = [new_samples[i][1] for i in range(len(new_samples))]"
      ],
      "execution_count": null,
      "outputs": []
    },
    {
      "cell_type": "code",
      "metadata": {
        "id": "PhHx7SkjqP9h",
        "colab_type": "code",
        "colab": {}
      },
      "source": [
        "# psy_models2 = [PsyLinear(1570) for _ in range(len(psy_weights2))]\n",
        "# for i in range(len(psy_weights)):\n",
        "#     psy_models2[i].load_state_dict(psy_weights2[i])\n",
        "\n",
        "psy_models = [PsyLinear(1570) for _ in range(len(psy_weights))]\n",
        "for i in range(len(psy_weights)):\n",
        "    psy_models[i].load_state_dict(psy_weights[i])\n",
        "\n",
        "# psy_models = [PsyConstVector(1570) for _ in range(len(psy_weights))]\n",
        "# for i in range(len(psy_weights)):\n",
        "#     psy_models[i].load_state_dict(psy_weights[i])"
      ],
      "execution_count": null,
      "outputs": []
    },
    {
      "cell_type": "code",
      "metadata": {
        "id": "UBr4c_qRqP9-",
        "colab_type": "code",
        "colab": {}
      },
      "source": [
        "ncv_s = [SteinCV(psy_model, train_x, train_y, prior, len(train_dl.dataset), ll_div=ll_div) \\\n",
        "         for psy_model, prior, ll_div in zip(psy_models, priors, ll_divs)]"
      ],
      "execution_count": null,
      "outputs": []
    },
    {
      "cell_type": "code",
      "metadata": {
        "id": "UXlpSx7UBmzo",
        "colab_type": "code",
        "colab": {
          "base_uri": "https://localhost:8080/",
          "height": 85
        },
        "outputId": "bae4cc55-5fbb-4443-9bf3-9f3f6d1b58ba"
      },
      "source": [
        "psy_weights[0]"
      ],
      "execution_count": null,
      "outputs": [
        {
          "output_type": "execute_result",
          "data": {
            "text/plain": [
              "OrderedDict([('layer.weight',\n",
              "              tensor([[-7.0730e-05,  6.1482e-06, -1.4517e-06,  ..., -6.6033e-06,\n",
              "                       -2.6463e-06,  2.6047e-05]])),\n",
              "             ('layer.bias', tensor([4.0239e-07]))])"
            ]
          },
          "metadata": {
            "tags": []
          },
          "execution_count": 162
        }
      ]
    },
    {
      "cell_type": "code",
      "metadata": {
        "id": "pmot5BvO6uwE",
        "colab_type": "code",
        "colab": {}
      },
      "source": [
        "# from torch.nn import functional as F\n",
        "\n",
        "# x = x_new[y_new == 1.0][[43]]\n",
        "# predictions = [F.softmax(model(x), -1) for model in trajectories[0]]"
      ],
      "execution_count": null,
      "outputs": []
    },
    {
      "cell_type": "code",
      "metadata": {
        "id": "c-OssA0kEIMB",
        "colab_type": "code",
        "colab": {}
      },
      "source": [
        "x = x_new[y_new == 1.0][[43]]"
      ],
      "execution_count": null,
      "outputs": []
    },
    {
      "cell_type": "code",
      "metadata": {
        "id": "3XqiVFAsCA5k",
        "colab_type": "code",
        "colab": {
          "base_uri": "https://localhost:8080/",
          "height": 34
        },
        "outputId": "c204dba0-1828-4795-fe38-cc3d397507ee"
      },
      "source": [
        "ncv_s[0](trajectories[0], x, ll_div=ll_divs[0]).mean()\n",
        "#uq.get_cv_values(x.unsqueeze(0)).mean()"
      ],
      "execution_count": null,
      "outputs": [
        {
          "output_type": "execute_result",
          "data": {
            "text/plain": [
              "tensor(0.0002, grad_fn=<MeanBackward0>)"
            ]
          },
          "metadata": {
            "tags": []
          },
          "execution_count": 165
        }
      ]
    },
    {
      "cell_type": "code",
      "metadata": {
        "id": "S26EJ43JqP_P",
        "colab_type": "code",
        "colab": {
          "base_uri": "https://localhost:8080/",
          "height": 282
        },
        "outputId": "70035371-246d-417f-e7a2-9e7713c2de5a"
      },
      "source": [
        "import random\n",
        "\n",
        "idx = random.randint(0, len(trajectories))\n",
        "print(idx)\n",
        "models = trajectories[idx]\n",
        "ncv = ncv_s[idx]\n",
        "uq = ClassificationUncertaintyMCMC(models, ncv)\n",
        "        #print(uq.estimate_emperical_mean(x.unsqueeze(0), use_cv=True))\n",
        "        #print(uq.estimate_emperical_mean(x.unsqueeze(0), use_cv=False))\n",
        "predictions_no_cv = uq.get_predictions(x.unsqueeze(0))#.detach().numpy()\n",
        "predictions_cv = predictions_no_cv - uq.get_cv_values(x.unsqueeze(0))#.tolist()\n",
        "fig7, ax7 = plt.subplots()\n",
        "#ax7.boxplot(predictions)\n",
        "ax7.boxplot([predictions_no_cv[:, 0].tolist(), predictions_cv[:, 0].tolist()])\n",
        "#ax7.boxplot([v, v2])\n",
        "\n",
        "plt.savefig('cv.png')\n",
        "plt.show()"
      ],
      "execution_count": null,
      "outputs": [
        {
          "output_type": "stream",
          "text": [
            "6\n"
          ],
          "name": "stdout"
        },
        {
          "output_type": "display_data",
          "data": {
            "image/png": "[encoded data removed]",
            "text/plain": [
              "<Figure size 432x288 with 1 Axes>"
            ]
          },
          "metadata": {
            "tags": [],
            "needs_background": "light"
          }
        }
      ]
    },
    {
      "cell_type": "code",
      "metadata": {
        "id": "_5SlahJQKlqf",
        "colab_type": "code",
        "colab": {
          "base_uri": "https://localhost:8080/",
          "height": 265
        },
        "outputId": "dde8f9de-9d34-411d-995a-145d9e965ff7"
      },
      "source": [
        "x = x_new[y_new == 1.0][[43]]\n",
        "\n",
        "l = [get_binary_prediction(models, x, [0,1]).mean().item() for models in trajectories]\n",
        "\n",
        "plt.boxplot(l)\n",
        "plt.show()"
      ],
      "execution_count": null,
      "outputs": [
        {
          "output_type": "display_data",
          "data": {
            "image/png": "[encoded data removed]",
            "text/plain": [
              "<Figure size 432x288 with 1 Axes>"
            ]
          },
          "metadata": {
            "tags": [],
            "needs_background": "light"
          }
        }
      ]
    },
    {
      "cell_type": "code",
      "metadata": {
        "tags": [],
        "id": "toKwZP-mqQAW",
        "colab_type": "code",
        "colab": {
          "base_uri": "https://localhost:8080/",
          "height": 282
        },
        "outputId": "759b2751-e843-4962-c454-364dd843fee5"
      },
      "source": [
        " for x in x_new[y_new == 1.0][[43]]:\n",
        "    predictions_cv, v = [], []\n",
        "    predictions_no_cv, v2 = [], []\n",
        "    for models, ncv in tqdm(zip(trajectories, ncv_s)):\n",
        "        uq = ClassificationUncertaintyMCMC(models, ncv)\n",
        "\n",
        "        predictions_cv.append(uq.estimate_emperical_mean(x.unsqueeze(0), use_cv=True).mean().item())\n",
        "        v.append(uq.estimate_emperical_variance(x.unsqueeze(0), use_cv=True).mean().item())\n",
        "        predictions_no_cv.append(uq.estimate_emperical_mean(x.unsqueeze(0), use_cv=False).mean().item())\n",
        "        v2.append(uq.estimate_emperical_variance(x.unsqueeze(0), use_cv=False).mean().item())\n",
        "    fig7, ax7 = plt.subplots()\n",
        "    #ax7.boxplot(predictions)\n",
        "    ax7.boxplot([predictions_no_cv, predictions_cv])\n",
        "    #ax7.boxplot([v, v2])\n",
        "    plt.show()"
      ],
      "execution_count": null,
      "outputs": [
        {
          "output_type": "stream",
          "text": [
            "10it [00:05,  1.85it/s]\n"
          ],
          "name": "stderr"
        },
        {
          "output_type": "display_data",
          "data": {
            "image/png": "[encoded data removed]",
            "text/plain": [
              "<Figure size 432x288 with 1 Axes>"
            ]
          },
          "metadata": {
            "tags": [],
            "needs_background": "light"
          }
        }
      ]
    },
    {
      "cell_type": "code",
      "metadata": {
        "id": "z4T4z-n2qQAx",
        "colab_type": "code",
        "colab": {}
      },
      "source": [
        "# import seaborn as sns\n",
        "# import matplotlib.pyplot as plt\n",
        "# %matplotlib inline\n",
        "# fig7, ax7 = plt.subplots()\n",
        "# #ax7.boxplot(predictions)\n",
        "# ax7.boxplot([predictions, predictions2])"
      ],
      "execution_count": null,
      "outputs": []
    },
    {
      "cell_type": "code",
      "metadata": {
        "id": "-WzKjph4qQA3",
        "colab_type": "code",
        "colab": {
          "base_uri": "https://localhost:8080/",
          "height": 34
        },
        "outputId": "cf23515b-495a-42f3-9dae-3694a783dbb8"
      },
      "source": [
        "uq.estimate_emperical_mean(x.unsqueeze(0), use_cv=False)"
      ],
      "execution_count": null,
      "outputs": [
        {
          "output_type": "execute_result",
          "data": {
            "text/plain": [
              "tensor([0.3743], grad_fn=<MeanBackward1>)"
            ]
          },
          "metadata": {
            "tags": []
          },
          "execution_count": 89
        }
      ]
    },
    {
      "cell_type": "code",
      "metadata": {
        "id": "8y9AP0fmqQBa",
        "colab_type": "code",
        "colab": {}
      },
      "source": [
        "uq.estimate_emperical_mean(x.unsqueeze(0), use_cv=True)"
      ],
      "execution_count": null,
      "outputs": []
    },
    {
      "cell_type": "code",
      "metadata": {
        "id": "dH3OFT8NqQBm",
        "colab_type": "code",
        "colab": {}
      },
      "source": [
        "x.unsqueeze(0).shape"
      ],
      "execution_count": null,
      "outputs": []
    },
    {
      "cell_type": "code",
      "metadata": {
        "id": "DLmuJHVzqQCO",
        "colab_type": "code",
        "colab": {}
      },
      "source": [
        "uq.estimate_emperical_variance(x.unsqueeze(0), use_cv=False)"
      ],
      "execution_count": null,
      "outputs": []
    },
    {
      "cell_type": "code",
      "metadata": {
        "id": "woawOpl_qQCf",
        "colab_type": "code",
        "colab": {},
        "outputId": "259dd8d5-a56d-4b23-c2ae-35aaa090f3c5"
      },
      "source": [
        "models"
      ],
      "execution_count": null,
      "outputs": [
        {
          "output_type": "execute_result",
          "data": {
            "text/plain": [
              "[LogRegression(\n",
              "   (linear): Linear(in_features=784, out_features=2, bias=True)\n",
              " ), LogRegression(\n",
              "   (linear): Linear(in_features=784, out_features=2, bias=True)\n",
              " ), LogRegression(\n",
              "   (linear): Linear(in_features=784, out_features=2, bias=True)\n",
              " ), LogRegression(\n",
              "   (linear): Linear(in_features=784, out_features=2, bias=True)\n",
              " ), LogRegression(\n",
              "   (linear): Linear(in_features=784, out_features=2, bias=True)\n",
              " ), LogRegression(\n",
              "   (linear): Linear(in_features=784, out_features=2, bias=True)\n",
              " ), LogRegression(\n",
              "   (linear): Linear(in_features=784, out_features=2, bias=True)\n",
              " ), LogRegression(\n",
              "   (linear): Linear(in_features=784, out_features=2, bias=True)\n",
              " ), LogRegression(\n",
              "   (linear): Linear(in_features=784, out_features=2, bias=True)\n",
              " ), LogRegression(\n",
              "   (linear): Linear(in_features=784, out_features=2, bias=True)\n",
              " ), LogRegression(\n",
              "   (linear): Linear(in_features=784, out_features=2, bias=True)\n",
              " ), LogRegression(\n",
              "   (linear): Linear(in_features=784, out_features=2, bias=True)\n",
              " ), LogRegression(\n",
              "   (linear): Linear(in_features=784, out_features=2, bias=True)\n",
              " ), LogRegression(\n",
              "   (linear): Linear(in_features=784, out_features=2, bias=True)\n",
              " ), LogRegression(\n",
              "   (linear): Linear(in_features=784, out_features=2, bias=True)\n",
              " ), LogRegression(\n",
              "   (linear): Linear(in_features=784, out_features=2, bias=True)\n",
              " ), LogRegression(\n",
              "   (linear): Linear(in_features=784, out_features=2, bias=True)\n",
              " ), LogRegression(\n",
              "   (linear): Linear(in_features=784, out_features=2, bias=True)\n",
              " ), LogRegression(\n",
              "   (linear): Linear(in_features=784, out_features=2, bias=True)\n",
              " ), LogRegression(\n",
              "   (linear): Linear(in_features=784, out_features=2, bias=True)\n",
              " ), LogRegression(\n",
              "   (linear): Linear(in_features=784, out_features=2, bias=True)\n",
              " ), LogRegression(\n",
              "   (linear): Linear(in_features=784, out_features=2, bias=True)\n",
              " ), LogRegression(\n",
              "   (linear): Linear(in_features=784, out_features=2, bias=True)\n",
              " ), LogRegression(\n",
              "   (linear): Linear(in_features=784, out_features=2, bias=True)\n",
              " ), LogRegression(\n",
              "   (linear): Linear(in_features=784, out_features=2, bias=True)\n",
              " ), LogRegression(\n",
              "   (linear): Linear(in_features=784, out_features=2, bias=True)\n",
              " ), LogRegression(\n",
              "   (linear): Linear(in_features=784, out_features=2, bias=True)\n",
              " ), LogRegression(\n",
              "   (linear): Linear(in_features=784, out_features=2, bias=True)\n",
              " ), LogRegression(\n",
              "   (linear): Linear(in_features=784, out_features=2, bias=True)\n",
              " ), LogRegression(\n",
              "   (linear): Linear(in_features=784, out_features=2, bias=True)\n",
              " ), LogRegression(\n",
              "   (linear): Linear(in_features=784, out_features=2, bias=True)\n",
              " ), LogRegression(\n",
              "   (linear): Linear(in_features=784, out_features=2, bias=True)\n",
              " ), LogRegression(\n",
              "   (linear): Linear(in_features=784, out_features=2, bias=True)\n",
              " ), LogRegression(\n",
              "   (linear): Linear(in_features=784, out_features=2, bias=True)\n",
              " ), LogRegression(\n",
              "   (linear): Linear(in_features=784, out_features=2, bias=True)\n",
              " ), LogRegression(\n",
              "   (linear): Linear(in_features=784, out_features=2, bias=True)\n",
              " ), LogRegression(\n",
              "   (linear): Linear(in_features=784, out_features=2, bias=True)\n",
              " ), LogRegression(\n",
              "   (linear): Linear(in_features=784, out_features=2, bias=True)\n",
              " ), LogRegression(\n",
              "   (linear): Linear(in_features=784, out_features=2, bias=True)\n",
              " ), LogRegression(\n",
              "   (linear): Linear(in_features=784, out_features=2, bias=True)\n",
              " ), LogRegression(\n",
              "   (linear): Linear(in_features=784, out_features=2, bias=True)\n",
              " ), LogRegression(\n",
              "   (linear): Linear(in_features=784, out_features=2, bias=True)\n",
              " ), LogRegression(\n",
              "   (linear): Linear(in_features=784, out_features=2, bias=True)\n",
              " ), LogRegression(\n",
              "   (linear): Linear(in_features=784, out_features=2, bias=True)\n",
              " ), LogRegression(\n",
              "   (linear): Linear(in_features=784, out_features=2, bias=True)\n",
              " ), LogRegression(\n",
              "   (linear): Linear(in_features=784, out_features=2, bias=True)\n",
              " ), LogRegression(\n",
              "   (linear): Linear(in_features=784, out_features=2, bias=True)\n",
              " ), LogRegression(\n",
              "   (linear): Linear(in_features=784, out_features=2, bias=True)\n",
              " ), LogRegression(\n",
              "   (linear): Linear(in_features=784, out_features=2, bias=True)\n",
              " ), LogRegression(\n",
              "   (linear): Linear(in_features=784, out_features=2, bias=True)\n",
              " )]"
            ]
          },
          "metadata": {
            "tags": []
          },
          "execution_count": 22
        }
      ]
    },
    {
      "cell_type": "code",
      "metadata": {
        "id": "56k5TP1dqQCm",
        "colab_type": "code",
        "colab": {}
      },
      "source": [
        ""
      ],
      "execution_count": null,
      "outputs": []
    }
  ]
}