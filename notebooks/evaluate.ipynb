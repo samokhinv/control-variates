{
 "cells": [
  {
   "cell_type": "code",
   "execution_count": 1,
   "metadata": {},
   "outputs": [],
   "source": [
    "import sys\n",
    "sys.path.append('..')"
   ]
  },
  {
   "cell_type": "code",
   "execution_count": 2,
   "metadata": {},
   "outputs": [],
   "source": [
    "import pickle"
   ]
  },
  {
   "cell_type": "code",
   "execution_count": 3,
   "metadata": {},
   "outputs": [],
   "source": [
    "with open('../data/100_samples_seed42.pkl', 'rb') as fp:\n",
    "    samples = pickle.load(fp)"
   ]
  },
  {
   "cell_type": "code",
   "execution_count": 4,
   "metadata": {},
   "outputs": [],
   "source": [
    "with open('../data/psy_weights.pckl', 'rb') as fp:\n",
    "    psy_weights = pickle.load(fp)"
   ]
  },
  {
   "cell_type": "code",
   "execution_count": 5,
   "metadata": {},
   "outputs": [],
   "source": [
    "with open('../data/psy_weights2.pckl', 'rb') as fp:\n",
    "    psy_weights2 = pickle.load(fp)"
   ]
  },
  {
   "cell_type": "code",
   "execution_count": 7,
   "metadata": {},
   "outputs": [],
   "source": [
    "from control_variates.uncertainty_quantification import ClassificationUncertaintyMCMC"
   ]
  },
  {
   "cell_type": "code",
   "execution_count": 8,
   "metadata": {},
   "outputs": [],
   "source": [
    "from mnist_utils import load_mnist_dataset\n",
    "train_dl, valid_dl = load_mnist_dataset('../data/mnist/', 100, [3, 5])"
   ]
  },
  {
   "cell_type": "code",
   "execution_count": 9,
   "metadata": {},
   "outputs": [],
   "source": [
    "x_new, y_new = next(iter(train_dl))\n",
    "train_x, train_y = next(iter(valid_dl))"
   ]
  },
  {
   "cell_type": "code",
   "execution_count": 10,
   "metadata": {},
   "outputs": [],
   "source": [
    "from control_variates.model import LogRegression"
   ]
  },
  {
   "cell_type": "code",
   "execution_count": 11,
   "metadata": {},
   "outputs": [],
   "source": [
    "trajectories = [[LogRegression(784)\n",
    "                 for j in range(len(samples[i][0]))]\n",
    "                for i in range(len(samples))]\n",
    "\n",
    "for i in range(len(samples)):\n",
    "    for j in range(len(samples[i][0])):\n",
    "        trajectories[i][j].load_state_dict(samples[i][0][j])\n",
    "\n",
    "priors = [samples[i][1] for i in range(len(samples))]"
   ]
  },
  {
   "cell_type": "code",
   "execution_count": 12,
   "metadata": {},
   "outputs": [],
   "source": [
    "from control_variates.cv import PsyLinear, SteinCV\n",
    "from control_variates.cv_utils import state_dict_to_vec, compute_naive_variance\n",
    "from control_variates.model import get_binary_prediction\n",
    "import numpy as np"
   ]
  },
  {
   "cell_type": "code",
   "execution_count": 37,
   "metadata": {},
   "outputs": [],
   "source": [
    "psy_models2 = [PsyLinear(1570) for _ in range(len(psy_weights2))]\n",
    "for i in range(len(psy_weights)):\n",
    "    psy_models2[i].load_state_dict(psy_weights2[i])"
   ]
  },
  {
   "cell_type": "code",
   "execution_count": 38,
   "metadata": {},
   "outputs": [],
   "source": [
    "ncv_s = [SteinCV(psy_model, train_x, train_y, prior, len(train_dl.dataset)) for psy_model, prior in zip(psy_models, priors)]"
   ]
  },
  {
   "cell_type": "code",
   "execution_count": 39,
   "metadata": {},
   "outputs": [],
   "source": [
    "from tqdm import tqdm"
   ]
  },
  {
   "cell_type": "code",
   "execution_count": 44,
   "metadata": {},
   "outputs": [
    {
     "name": "stderr",
     "output_type": "stream",
     "text": [
      "94it [00:07, 12.95it/s]\n"
     ]
    }
   ],
   "source": [
    "predictions = []\n",
    "predictions2 = []\n",
    "for models, ncv in tqdm(zip(trajectories, ncv_s)):\n",
    "    uq = ClassificationUncertaintyMCMC(models, ncv)\n",
    "    predictions.append(uq.estimate_emperical_mean(x_new[20:21], use_cv=True).mean().item())\n",
    "    predictions2.append(uq.estimate_emperical_mean(x_new[20:21], use_cv=False).mean().item())"
   ]
  },
  {
   "cell_type": "code",
   "execution_count": 41,
   "metadata": {},
   "outputs": [
    {
     "data": {
      "text/plain": [
       "[-0.5529963970184326,\n",
       " -0.3034396171569824,\n",
       " -0.3084177076816559,\n",
       " 0.27098724246025085,\n",
       " 0.4668087363243103,\n",
       " 0.07207915931940079,\n",
       " 0.8103074431419373,\n",
       " -0.14991137385368347,\n",
       " -0.16540096700191498,\n",
       " 0.676304042339325,\n",
       " -0.24170571565628052,\n",
       " -0.6263117790222168,\n",
       " -0.5036830306053162,\n",
       " 2.065418004989624,\n",
       " 0.9156368970870972,\n",
       " -0.5197111964225769,\n",
       " -0.45443570613861084,\n",
       " 0.6326250433921814,\n",
       " 0.7651432156562805,\n",
       " 0.5253451466560364,\n",
       " 0.4691844880580902,\n",
       " 0.24548174440860748,\n",
       " 0.6366735696792603,\n",
       " 0.1285567432641983,\n",
       " -0.47524312138557434,\n",
       " 0.003110691672191024,\n",
       " 0.45746180415153503,\n",
       " -0.2538130283355713,\n",
       " 0.7143682837486267,\n",
       " -0.6687003970146179,\n",
       " 0.3889327943325043,\n",
       " 0.3091377019882202,\n",
       " 0.33664149045944214,\n",
       " -0.09958727657794952,\n",
       " -0.7406415343284607,\n",
       " -0.38194096088409424,\n",
       " 0.8116920590400696,\n",
       " -0.5187420845031738,\n",
       " 0.5510967969894409,\n",
       " 0.8280174732208252,\n",
       " 0.1886402666568756,\n",
       " -0.2231098711490631,\n",
       " 0.33123359084129333,\n",
       " 0.2600928843021393,\n",
       " 0.3950338661670685,\n",
       " -0.5814920663833618,\n",
       " 0.35189327597618103,\n",
       " 0.47941362857818604,\n",
       " 0.05051335319876671,\n",
       " 0.6164191961288452,\n",
       " -0.2830285131931305,\n",
       " -0.22359703481197357,\n",
       " -0.46313512325286865,\n",
       " 0.3475906252861023,\n",
       " -0.7874286770820618,\n",
       " 1.3902723789215088,\n",
       " 0.30440056324005127,\n",
       " 0.30177298188209534,\n",
       " 0.34367135167121887,\n",
       " -0.5536667108535767,\n",
       " 0.7632941603660583,\n",
       " 0.1427234560251236,\n",
       " -0.1981089562177658,\n",
       " -0.3059350848197937,\n",
       " -0.6551326513290405,\n",
       " 0.32422375679016113,\n",
       " -0.33659687638282776,\n",
       " -0.427133709192276,\n",
       " -0.5243535041809082,\n",
       " 0.7288097143173218,\n",
       " 0.9755966067314148,\n",
       " 0.08232726901769638,\n",
       " 0.7033235430717468,\n",
       " 1.3475768566131592,\n",
       " 0.6629458069801331,\n",
       " 1.123455286026001,\n",
       " -0.20524479448795319,\n",
       " -0.6536723971366882,\n",
       " 0.03223846107721329,\n",
       " -0.295091837644577,\n",
       " -0.515622079372406,\n",
       " 0.21791572868824005,\n",
       " -0.10806526988744736,\n",
       " -0.2991759479045868,\n",
       " -0.4976842403411865,\n",
       " -0.819702684879303,\n",
       " -0.27960750460624695,\n",
       " -0.9759235978126526,\n",
       " -0.8863915801048279,\n",
       " 0.04493541270494461,\n",
       " 0.5817381143569946,\n",
       " 0.7186447381973267,\n",
       " -0.5029338002204895,\n",
       " 0.27928268909454346]"
      ]
     },
     "execution_count": 41,
     "metadata": {},
     "output_type": "execute_result"
    }
   ],
   "source": [
    "predictions"
   ]
  },
  {
   "cell_type": "code",
   "execution_count": 42,
   "metadata": {},
   "outputs": [
    {
     "name": "stdout",
     "output_type": "stream",
     "text": [
      "Requirement already satisfied: seaborn in /home/vsamohin/miniconda3/lib/python3.6/site-packages (0.10.1)\n",
      "Requirement already satisfied: scipy>=1.0.1 in /home/vsamohin/miniconda3/lib/python3.6/site-packages (from seaborn) (1.3.0)\n",
      "Requirement already satisfied: numpy>=1.13.3 in /home/vsamohin/miniconda3/lib/python3.6/site-packages (from seaborn) (1.16.4)\n",
      "Requirement already satisfied: pandas>=0.22.0 in /home/vsamohin/miniconda3/lib/python3.6/site-packages (from seaborn) (0.25.3)\n",
      "Requirement already satisfied: matplotlib>=2.1.2 in /home/vsamohin/miniconda3/lib/python3.6/site-packages (from seaborn) (3.1.1)\n",
      "Requirement already satisfied: python-dateutil>=2.6.1 in /home/vsamohin/miniconda3/lib/python3.6/site-packages (from pandas>=0.22.0->seaborn) (2.8.0)\n",
      "Requirement already satisfied: pytz>=2017.2 in /home/vsamohin/miniconda3/lib/python3.6/site-packages (from pandas>=0.22.0->seaborn) (2019.3)\n",
      "Requirement already satisfied: cycler>=0.10 in /home/vsamohin/miniconda3/lib/python3.6/site-packages (from matplotlib>=2.1.2->seaborn) (0.10.0)\n",
      "Requirement already satisfied: kiwisolver>=1.0.1 in /home/vsamohin/miniconda3/lib/python3.6/site-packages (from matplotlib>=2.1.2->seaborn) (1.1.0)\n",
      "Requirement already satisfied: pyparsing!=2.0.4,!=2.1.2,!=2.1.6,>=2.0.1 in /home/vsamohin/miniconda3/lib/python3.6/site-packages (from matplotlib>=2.1.2->seaborn) (2.4.2)\n",
      "Requirement already satisfied: six>=1.5 in /home/vsamohin/miniconda3/lib/python3.6/site-packages (from python-dateutil>=2.6.1->pandas>=0.22.0->seaborn) (1.12.0)\n",
      "Requirement already satisfied: setuptools in /home/vsamohin/miniconda3/lib/python3.6/site-packages (from kiwisolver>=1.0.1->matplotlib>=2.1.2->seaborn) (41.4.0)\n"
     ]
    }
   ],
   "source": [
    "!pip install seaborn\n",
    "import seaborn as sns"
   ]
  },
  {
   "cell_type": "code",
   "execution_count": 45,
   "metadata": {},
   "outputs": [
    {
     "data": {
      "text/plain": [
       "{'whiskers': [<matplotlib.lines.Line2D at 0x7f8a1c5ceef0>,\n",
       "  <matplotlib.lines.Line2D at 0x7f8a1a415278>,\n",
       "  <matplotlib.lines.Line2D at 0x7f8a1a41f668>,\n",
       "  <matplotlib.lines.Line2D at 0x7f8a1a41f9b0>],\n",
       " 'caps': [<matplotlib.lines.Line2D at 0x7f8a1a4155c0>,\n",
       "  <matplotlib.lines.Line2D at 0x7f8a1a415908>,\n",
       "  <matplotlib.lines.Line2D at 0x7f8a1a41fcf8>,\n",
       "  <matplotlib.lines.Line2D at 0x7f8a1a429080>],\n",
       " 'boxes': [<matplotlib.lines.Line2D at 0x7f8a1c5cebe0>,\n",
       "  <matplotlib.lines.Line2D at 0x7f8a1a41f2e8>],\n",
       " 'medians': [<matplotlib.lines.Line2D at 0x7f8a1a415c50>,\n",
       "  <matplotlib.lines.Line2D at 0x7f8a1a4293c8>],\n",
       " 'fliers': [<matplotlib.lines.Line2D at 0x7f8a1a415f98>,\n",
       "  <matplotlib.lines.Line2D at 0x7f8a1a429710>],\n",
       " 'means': []}"
      ]
     },
     "execution_count": 45,
     "metadata": {},
     "output_type": "execute_result"
    },
    {
     "data": {
      "image/png": "[encoded data removed]",
      "text/plain": [
       "<Figure size 432x288 with 1 Axes>"
      ]
     },
     "metadata": {
      "needs_background": "light"
     },
     "output_type": "display_data"
    }
   ],
   "source": [
    "import matplotlib.pyplot as plt\n",
    "%matplotlib inline\n",
    "fig7, ax7 = plt.subplots()\n",
    "#ax7.boxplot(predictions)\n",
    "ax7.boxplot([predictions, predictions2])"
   ]
  },
  {
   "cell_type": "code",
   "execution_count": null,
   "metadata": {},
   "outputs": [],
   "source": []
  }
 ],
 "metadata": {
  "kernelspec": {
   "display_name": "Python 3",
   "language": "python",
   "name": "python3"
  },
  "language_info": {
   "codemirror_mode": {
    "name": "ipython",
    "version": 3
   },
   "file_extension": ".py",
   "mimetype": "text/x-python",
   "name": "python",
   "nbconvert_exporter": "python",
   "pygments_lexer": "ipython3",
   "version": "3.6.9"
  }
 },
 "nbformat": 4,
 "nbformat_minor": 2
}
