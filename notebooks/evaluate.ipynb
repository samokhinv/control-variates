{
 "cells": [
  {
   "cell_type": "code",
   "execution_count": 1,
   "metadata": {},
   "outputs": [],
   "source": [
    "%load_ext autoreload\n",
    "%autoreload 2"
   ]
  },
  {
   "cell_type": "code",
   "execution_count": 2,
   "metadata": {},
   "outputs": [],
   "source": [
    "import sys\n",
    "sys.path.append('..')"
   ]
  },
  {
   "cell_type": "code",
   "execution_count": 3,
   "metadata": {},
   "outputs": [],
   "source": [
    "import pickle"
   ]
  },
  {
   "cell_type": "code",
   "execution_count": 4,
   "metadata": {},
   "outputs": [],
   "source": [
    "with open('../saved_samples/mnist_weights/trajectories/sgld/100_samples_seed-1.pkl', 'rb') as fp:\n",
    "    samples = pickle.load(fp)\n",
    "    \n",
    "    "
   ]
  },
  {
   "cell_type": "code",
   "execution_count": 5,
   "metadata": {},
   "outputs": [
    {
     "data": {
      "text/plain": [
       "([OrderedDict([('linear.weight',\n",
       "                tensor([[ 0.2491,  0.0401, -0.2135,  ...,  0.2880,  0.0333,  0.0653],\n",
       "                        [-0.0709,  0.0609, -0.1806,  ...,  0.0842,  0.2587, -0.0576]])),\n",
       "               ('linear.bias', tensor([0.0472, 0.0550]))]),\n",
       "  OrderedDict([('linear.weight',\n",
       "                tensor([[ 0.2735,  0.0685, -0.2389,  ...,  0.2911,  0.0213,  0.0434],\n",
       "                        [-0.0474,  0.0622, -0.1649,  ...,  0.0799,  0.2444, -0.0296]])),\n",
       "               ('linear.bias', tensor([0.0306, 0.0596]))]),\n",
       "  OrderedDict([('linear.weight',\n",
       "                tensor([[ 0.2591,  0.0714, -0.2410,  ...,  0.2980,  0.0380,  0.0435],\n",
       "                        [-0.0327,  0.0252, -0.1572,  ...,  0.0789,  0.2246, -0.0170]])),\n",
       "               ('linear.bias', tensor([0.0311, 0.0549]))]),\n",
       "  OrderedDict([('linear.weight',\n",
       "                tensor([[ 0.2992,  0.0885, -0.1717,  ...,  0.3131,  0.0789,  0.0450],\n",
       "                        [-0.0087,  0.0277, -0.1651,  ...,  0.0701,  0.2293,  0.0138]])),\n",
       "               ('linear.bias', tensor([-0.0026,  0.0610]))]),\n",
       "  OrderedDict([('linear.weight',\n",
       "                tensor([[ 0.3189,  0.0932, -0.1481,  ...,  0.2971,  0.0967,  0.0708],\n",
       "                        [ 0.0159,  0.0383, -0.1348,  ...,  0.0309,  0.1992, -0.0007]])),\n",
       "               ('linear.bias', tensor([-0.0295,  0.0763]))]),\n",
       "  OrderedDict([('linear.weight',\n",
       "                tensor([[ 0.3237,  0.0766, -0.1602,  ...,  0.2804,  0.0883, -0.0047],\n",
       "                        [-0.0040,  0.0540, -0.1299,  ...,  0.0547,  0.1897, -0.0305]])),\n",
       "               ('linear.bias', tensor([-0.0113,  0.0623]))]),\n",
       "  OrderedDict([('linear.weight',\n",
       "                tensor([[ 0.3368,  0.1038, -0.1165,  ...,  0.2988,  0.1009,  0.0319],\n",
       "                        [-0.0362, -0.0033, -0.1202,  ...,  0.0473,  0.1498, -0.0630]])),\n",
       "               ('linear.bias', tensor([0.0060, 0.0571]))]),\n",
       "  OrderedDict([('linear.weight',\n",
       "                tensor([[ 0.3612,  0.1146, -0.0842,  ...,  0.3178,  0.0953,  0.0030],\n",
       "                        [-0.1057, -0.0325, -0.1208,  ...,  0.0336,  0.1935, -0.0339]])),\n",
       "               ('linear.bias', tensor([-0.0236,  0.0451]))]),\n",
       "  OrderedDict([('linear.weight',\n",
       "                tensor([[ 0.3235,  0.1053, -0.0975,  ...,  0.2874,  0.0425, -0.0026],\n",
       "                        [-0.1412, -0.0123, -0.0872,  ..., -0.0027,  0.1988, -0.0391]])),\n",
       "               ('linear.bias', tensor([-0.0649,  0.0709]))]),\n",
       "  OrderedDict([('linear.weight',\n",
       "                tensor([[ 0.3408,  0.1280, -0.1094,  ...,  0.2982,  0.0345, -0.0020],\n",
       "                        [-0.1554,  0.0202, -0.1146,  ...,  0.0304,  0.1960, -0.0271]])),\n",
       "               ('linear.bias', tensor([-0.0884,  0.0720]))]),\n",
       "  OrderedDict([('linear.weight',\n",
       "                tensor([[ 0.3848,  0.0795, -0.1121,  ...,  0.2718, -0.0005,  0.0305],\n",
       "                        [-0.1820,  0.0428, -0.1034,  ...,  0.0402,  0.1921, -0.0548]])),\n",
       "               ('linear.bias', tensor([-0.0895,  0.1132]))]),\n",
       "  OrderedDict([('linear.weight',\n",
       "                tensor([[ 0.4091,  0.0614, -0.1006,  ...,  0.2975,  0.0071,  0.0416],\n",
       "                        [-0.1809,  0.0447, -0.0910,  ...,  0.0671,  0.1976, -0.0879]])),\n",
       "               ('linear.bias', tensor([-0.0823,  0.1089]))]),\n",
       "  OrderedDict([('linear.weight',\n",
       "                tensor([[ 0.3861,  0.0232, -0.1074,  ...,  0.3035, -0.0255,  0.0366],\n",
       "                        [-0.2146,  0.0474, -0.0885,  ...,  0.0920,  0.1872, -0.0970]])),\n",
       "               ('linear.bias', tensor([-0.1005,  0.0947]))]),\n",
       "  OrderedDict([('linear.weight',\n",
       "                tensor([[ 0.4197,  0.0218, -0.1111,  ...,  0.2985, -0.0209,  0.0078],\n",
       "                        [-0.2083,  0.0473, -0.0831,  ...,  0.1117,  0.1875, -0.0866]])),\n",
       "               ('linear.bias', tensor([-0.0882,  0.0729]))]),\n",
       "  OrderedDict([('linear.weight',\n",
       "                tensor([[ 0.4349,  0.0525, -0.0889,  ...,  0.2913, -0.0038,  0.0026],\n",
       "                        [-0.2145,  0.0703, -0.0864,  ...,  0.1049,  0.1751, -0.0687]])),\n",
       "               ('linear.bias', tensor([-0.0994,  0.0657]))]),\n",
       "  OrderedDict([('linear.weight',\n",
       "                tensor([[ 0.4344,  0.0202, -0.0687,  ...,  0.2832, -0.0249,  0.0300],\n",
       "                        [-0.1900,  0.0143, -0.0552,  ...,  0.1258,  0.1590, -0.0448]])),\n",
       "               ('linear.bias', tensor([-0.0976,  0.0160]))]),\n",
       "  OrderedDict([('linear.weight',\n",
       "                tensor([[ 0.4547,  0.0469, -0.0757,  ...,  0.2707, -0.0836,  0.0268],\n",
       "                        [-0.1763,  0.0103, -0.0288,  ...,  0.1223,  0.1235, -0.0631]])),\n",
       "               ('linear.bias', tensor([-0.0900,  0.0146]))]),\n",
       "  OrderedDict([('linear.weight',\n",
       "                tensor([[ 0.4695,  0.0711, -0.1183,  ...,  0.2416, -0.0906,  0.0482],\n",
       "                        [-0.1876,  0.0120, -0.0335,  ...,  0.1341,  0.1804, -0.0559]])),\n",
       "               ('linear.bias', tensor([-0.1030,  0.0286]))]),\n",
       "  OrderedDict([('linear.weight',\n",
       "                tensor([[ 0.4501,  0.0221, -0.1442,  ...,  0.2935, -0.1012,  0.0311],\n",
       "                        [-0.2034, -0.0154, -0.0156,  ...,  0.1489,  0.1886, -0.0688]])),\n",
       "               ('linear.bias', tensor([-0.1013,  0.0203]))]),\n",
       "  OrderedDict([('linear.weight',\n",
       "                tensor([[ 0.4591, -0.0063, -0.1256,  ...,  0.2704, -0.0812,  0.0239],\n",
       "                        [-0.2262,  0.0174, -0.0541,  ...,  0.1827,  0.2121, -0.0678]])),\n",
       "               ('linear.bias', tensor([-0.1317,  0.0385]))]),\n",
       "  OrderedDict([('linear.weight',\n",
       "                tensor([[ 0.4541, -0.0270, -0.1509,  ...,  0.2619, -0.0990, -0.0111],\n",
       "                        [-0.1885,  0.0055, -0.0560,  ...,  0.1404,  0.2008, -0.1004]])),\n",
       "               ('linear.bias', tensor([-0.1241,  0.0288]))]),\n",
       "  OrderedDict([('linear.weight',\n",
       "                tensor([[ 0.4679, -0.0005, -0.1488,  ...,  0.2378, -0.1022, -0.0110],\n",
       "                        [-0.2014,  0.0384, -0.0468,  ...,  0.1408,  0.2106, -0.1321]])),\n",
       "               ('linear.bias', tensor([-0.1342,  0.0406]))]),\n",
       "  OrderedDict([('linear.weight',\n",
       "                tensor([[ 0.4636, -0.0201, -0.1440,  ...,  0.2427, -0.0937, -0.0260],\n",
       "                        [-0.2148,  0.0566, -0.0232,  ...,  0.1784,  0.2039, -0.1305]])),\n",
       "               ('linear.bias', tensor([-0.1751,  0.0604]))]),\n",
       "  OrderedDict([('linear.weight',\n",
       "                tensor([[ 0.4614, -0.0189, -0.1514,  ...,  0.2529, -0.0846, -0.0366],\n",
       "                        [-0.2525,  0.0519, -0.0139,  ...,  0.1734,  0.1997, -0.1130]])),\n",
       "               ('linear.bias', tensor([-0.1684,  0.0374]))]),\n",
       "  OrderedDict([('linear.weight',\n",
       "                tensor([[ 0.4939, -0.0069, -0.1387,  ...,  0.2870, -0.0933, -0.0401],\n",
       "                        [-0.2773,  0.0694,  0.0028,  ...,  0.1764,  0.1099, -0.0960]])),\n",
       "               ('linear.bias', tensor([-1.5462e-01, -9.5764e-05]))]),\n",
       "  OrderedDict([('linear.weight',\n",
       "                tensor([[ 0.4992, -0.0165, -0.1351,  ...,  0.2704, -0.0987, -0.0374],\n",
       "                        [-0.2092,  0.0854,  0.0418,  ...,  0.1657,  0.0774, -0.0916]])),\n",
       "               ('linear.bias', tensor([-0.1783,  0.0160]))]),\n",
       "  OrderedDict([('linear.weight',\n",
       "                tensor([[ 0.5231,  0.0252, -0.1432,  ...,  0.2843, -0.1282, -0.0485],\n",
       "                        [-0.2100,  0.0937,  0.0282,  ...,  0.1464,  0.0704, -0.0980]])),\n",
       "               ('linear.bias', tensor([-0.1946,  0.0340]))]),\n",
       "  OrderedDict([('linear.weight',\n",
       "                tensor([[ 0.5054,  0.0451, -0.1071,  ...,  0.2879, -0.1263, -0.0610],\n",
       "                        [-0.2177,  0.0582, -0.0208,  ...,  0.1683,  0.0889, -0.1157]])),\n",
       "               ('linear.bias', tensor([-0.1794,  0.0336]))]),\n",
       "  OrderedDict([('linear.weight',\n",
       "                tensor([[ 0.5202,  0.0530, -0.1187,  ...,  0.3312, -0.1539, -0.0532],\n",
       "                        [-0.2053,  0.0600, -0.0148,  ...,  0.1348,  0.0779, -0.1251]])),\n",
       "               ('linear.bias', tensor([-0.1725,  0.0105]))]),\n",
       "  OrderedDict([('linear.weight',\n",
       "                tensor([[ 0.5348,  0.0638, -0.1551,  ...,  0.3152, -0.1910, -0.0661],\n",
       "                        [-0.2107,  0.0522, -0.0200,  ...,  0.1457,  0.0633, -0.1197]])),\n",
       "               ('linear.bias', tensor([-0.2286,  0.0195]))]),\n",
       "  OrderedDict([('linear.weight',\n",
       "                tensor([[ 0.5460,  0.0707, -0.1600,  ...,  0.2665, -0.1964, -0.0800],\n",
       "                        [-0.2183,  0.0517, -0.0093,  ...,  0.1374,  0.0601, -0.1536]])),\n",
       "               ('linear.bias', tensor([-0.2352, -0.0267]))]),\n",
       "  OrderedDict([('linear.weight',\n",
       "                tensor([[ 0.5270,  0.0755, -0.1760,  ...,  0.2397, -0.2028, -0.0927],\n",
       "                        [-0.2249,  0.0334,  0.0018,  ...,  0.1461,  0.0735, -0.1686]])),\n",
       "               ('linear.bias', tensor([-0.2357, -0.0499]))]),\n",
       "  OrderedDict([('linear.weight',\n",
       "                tensor([[ 4.6748e-01,  1.0326e-01, -1.9122e-01,  ...,  2.6489e-01,\n",
       "                         -1.7607e-01, -9.4171e-02],\n",
       "                        [-2.5049e-01,  1.9333e-02,  5.2717e-05,  ...,  1.5468e-01,\n",
       "                          6.3998e-02, -1.7279e-01]])),\n",
       "               ('linear.bias', tensor([-0.1908, -0.0742]))]),\n",
       "  OrderedDict([('linear.weight',\n",
       "                tensor([[ 0.4643,  0.1138, -0.1795,  ...,  0.2690, -0.1400, -0.0581],\n",
       "                        [-0.2638,  0.0467, -0.0130,  ...,  0.1663,  0.0992, -0.1071]])),\n",
       "               ('linear.bias', tensor([-0.1669, -0.0419]))]),\n",
       "  OrderedDict([('linear.weight',\n",
       "                tensor([[ 0.4845,  0.1043, -0.1506,  ...,  0.2986, -0.1741, -0.0585],\n",
       "                        [-0.2359,  0.0387, -0.0281,  ...,  0.1528,  0.0992, -0.0848]])),\n",
       "               ('linear.bias', tensor([-0.1893, -0.0592]))]),\n",
       "  OrderedDict([('linear.weight',\n",
       "                tensor([[ 0.4854,  0.1087, -0.1439,  ...,  0.3152, -0.1871, -0.0409],\n",
       "                        [-0.2518,  0.0580, -0.0588,  ...,  0.1303,  0.1122, -0.0925]])),\n",
       "               ('linear.bias', tensor([-0.1771, -0.0698]))]),\n",
       "  OrderedDict([('linear.weight',\n",
       "                tensor([[ 0.5140,  0.1339, -0.1260,  ...,  0.2839, -0.2009, -0.0464],\n",
       "                        [-0.2077,  0.0911, -0.0783,  ...,  0.1437,  0.1132, -0.0875]])),\n",
       "               ('linear.bias', tensor([-0.1994, -0.0908]))]),\n",
       "  OrderedDict([('linear.weight',\n",
       "                tensor([[ 0.5301,  0.1356, -0.0869,  ...,  0.2862, -0.2060, -0.0687],\n",
       "                        [-0.1950,  0.0907, -0.0823,  ...,  0.1482,  0.1155, -0.0892]])),\n",
       "               ('linear.bias', tensor([-0.2221, -0.0738]))]),\n",
       "  OrderedDict([('linear.weight',\n",
       "                tensor([[ 0.5522,  0.1713, -0.0868,  ...,  0.2654, -0.2299, -0.0493],\n",
       "                        [-0.2055,  0.0766, -0.1127,  ...,  0.1655,  0.1616, -0.0825]])),\n",
       "               ('linear.bias', tensor([-0.2044, -0.0958]))]),\n",
       "  OrderedDict([('linear.weight',\n",
       "                tensor([[ 0.5494,  0.1379, -0.1239,  ...,  0.2900, -0.2477, -0.0365],\n",
       "                        [-0.2003,  0.0915, -0.1062,  ...,  0.1314,  0.1679, -0.1050]])),\n",
       "               ('linear.bias', tensor([-0.2007, -0.1073]))]),\n",
       "  OrderedDict([('linear.weight',\n",
       "                tensor([[ 0.5087,  0.1448, -0.1137,  ...,  0.2865, -0.2883, -0.0051],\n",
       "                        [-0.1663,  0.0815, -0.1074,  ...,  0.1303,  0.1560, -0.0981]])),\n",
       "               ('linear.bias', tensor([-0.1943, -0.1147]))]),\n",
       "  OrderedDict([('linear.weight',\n",
       "                tensor([[ 0.5107,  0.1421, -0.0875,  ...,  0.2858, -0.2599, -0.0125],\n",
       "                        [-0.1615,  0.0657, -0.1005,  ...,  0.1189,  0.1319, -0.0807]])),\n",
       "               ('linear.bias', tensor([-0.1827, -0.0549]))]),\n",
       "  OrderedDict([('linear.weight',\n",
       "                tensor([[ 0.5150,  0.1409, -0.0896,  ...,  0.3256, -0.2900,  0.0456],\n",
       "                        [-0.1584,  0.0495, -0.0591,  ...,  0.1310,  0.0954, -0.0767]])),\n",
       "               ('linear.bias', tensor([-0.2050, -0.0318]))]),\n",
       "  OrderedDict([('linear.weight',\n",
       "                tensor([[ 0.4867,  0.1205, -0.1122,  ...,  0.3260, -0.2481,  0.0379],\n",
       "                        [-0.1601,  0.0436, -0.0513,  ...,  0.1392,  0.0890, -0.0965]])),\n",
       "               ('linear.bias', tensor([-0.1945, -0.0046]))]),\n",
       "  OrderedDict([('linear.weight',\n",
       "                tensor([[ 0.5145,  0.1442, -0.1299,  ...,  0.3468, -0.2579,  0.0654],\n",
       "                        [-0.1522,  0.0409, -0.0521,  ...,  0.1400,  0.0814, -0.0779]])),\n",
       "               ('linear.bias', tensor([-0.1903, -0.0497]))]),\n",
       "  OrderedDict([('linear.weight',\n",
       "                tensor([[ 0.5166,  0.1272, -0.1220,  ...,  0.4074, -0.2516,  0.0667],\n",
       "                        [-0.1069,  0.0028, -0.0332,  ...,  0.1031,  0.0767, -0.1040]])),\n",
       "               ('linear.bias', tensor([-0.1677, -0.0739]))]),\n",
       "  OrderedDict([('linear.weight',\n",
       "                tensor([[ 0.5060,  0.1292, -0.0949,  ...,  0.4422, -0.2936,  0.0612],\n",
       "                        [-0.0722, -0.0182, -0.0112,  ...,  0.1149,  0.0616, -0.1158]])),\n",
       "               ('linear.bias', tensor([-0.1616, -0.0715]))]),\n",
       "  OrderedDict([('linear.weight',\n",
       "                tensor([[ 0.5077,  0.1119, -0.1043,  ...,  0.4543, -0.2996,  0.0942],\n",
       "                        [-0.0726, -0.0301, -0.0274,  ...,  0.1111,  0.0443, -0.1296]])),\n",
       "               ('linear.bias', tensor([-0.1587, -0.0708]))]),\n",
       "  OrderedDict([('linear.weight',\n",
       "                tensor([[ 0.4980,  0.0927, -0.0723,  ...,  0.4626, -0.3211,  0.0973],\n",
       "                        [-0.0435, -0.0320,  0.0089,  ...,  0.1040,  0.0258, -0.1358]])),\n",
       "               ('linear.bias', tensor([-0.1571, -0.0765]))]),\n",
       "  OrderedDict([('linear.weight',\n",
       "                tensor([[ 0.5049,  0.0675, -0.0644,  ...,  0.4473, -0.3323,  0.0822],\n",
       "                        [-0.0659,  0.0037,  0.0275,  ...,  0.1155,  0.0453, -0.1163]])),\n",
       "               ('linear.bias', tensor([-0.1778, -0.0542]))])],\n",
       " {'linear.weight': 0.2673929824073072, 'linear.bias': 0.2673929824073072})"
      ]
     },
     "execution_count": 5,
     "metadata": {},
     "output_type": "execute_result"
    }
   ],
   "source": [
    "samples[0][1]"
   ]
  },
  {
   "cell_type": "code",
   "execution_count": 25,
   "metadata": {},
   "outputs": [],
   "source": [
    "with open('../data/psy_weights_const_full_no_reg2.pckl', 'rb') as fp:\n",
    "    psy_weights = pickle.load(fp)"
   ]
  },
  {
   "cell_type": "code",
   "execution_count": 5,
   "metadata": {},
   "outputs": [],
   "source": [
    "with open('../data/psy_weights2.pckl', 'rb') as fp:\n",
    "    psy_weights2 = pickle.load(fp)"
   ]
  },
  {
   "cell_type": "code",
   "execution_count": 7,
   "metadata": {},
   "outputs": [],
   "source": [
    "from control_variates.uncertainty_quantification import ClassificationUncertaintyMCMC"
   ]
  },
  {
   "cell_type": "code",
   "execution_count": 10,
   "metadata": {},
   "outputs": [],
   "source": [
    "from mnist_utils import load_mnist_dataset\n",
    "train_dl, valid_dl = load_mnist_dataset('../data/mnist/', 20000, [3, 5])"
   ]
  },
  {
   "cell_type": "code",
   "execution_count": 11,
   "metadata": {},
   "outputs": [],
   "source": [
    "x_new, y_new = next(iter(valid_dl))\n",
    "train_x, train_y = next(iter(train_dl))"
   ]
  },
  {
   "cell_type": "code",
   "execution_count": 12,
   "metadata": {},
   "outputs": [],
   "source": [
    "samples = samples[0]"
   ]
  },
  {
   "cell_type": "code",
   "execution_count": 13,
   "metadata": {},
   "outputs": [],
   "source": [
    "from control_variates.model import LogRegression"
   ]
  },
  {
   "cell_type": "code",
   "execution_count": 14,
   "metadata": {},
   "outputs": [],
   "source": [
    "trajectories = [[LogRegression(784)\n",
    "                 for j in range(len(samples[i][0]))]\n",
    "                for i in range(len(samples))]\n",
    "\n",
    "for i in range(len(samples)):\n",
    "    for j in range(len(samples[i][0])):\n",
    "        trajectories[i][j].load_state_dict(samples[i][0][j])\n",
    "\n",
    "priors = [samples[i][1] for i in range(len(samples))]"
   ]
  },
  {
   "cell_type": "code",
   "execution_count": 26,
   "metadata": {},
   "outputs": [],
   "source": [
    "from control_variates.cv import PsyLinear, SteinCV, PsyConstVector\n",
    "from control_variates.cv_utils import state_dict_to_vec, compute_naive_variance\n",
    "from control_variates.model import get_binary_prediction\n",
    "import numpy as np"
   ]
  },
  {
   "cell_type": "code",
   "execution_count": 27,
   "metadata": {},
   "outputs": [],
   "source": [
    "psy_models = [PsyConstVector(1570) for _ in range(len(psy_weights))]\n",
    "for i in range(len(psy_weights)):\n",
    "    psy_models[i].load_state_dict(psy_weights[i])"
   ]
  },
  {
   "cell_type": "code",
   "execution_count": 28,
   "metadata": {},
   "outputs": [],
   "source": [
    "ncv_s = [SteinCV(psy_model, train_x, train_y, prior, len(train_dl.dataset)) for psy_model, prior in zip(psy_models, priors)]"
   ]
  },
  {
   "cell_type": "code",
   "execution_count": 29,
   "metadata": {},
   "outputs": [
    {
     "data": {
      "text/plain": [
       "100"
      ]
     },
     "execution_count": 29,
     "metadata": {},
     "output_type": "execute_result"
    }
   ],
   "source": [
    "len(ncv_s)"
   ]
  },
  {
   "cell_type": "code",
   "execution_count": 30,
   "metadata": {},
   "outputs": [],
   "source": [
    "from tqdm import tqdm"
   ]
  },
  {
   "cell_type": "code",
   "execution_count": 31,
   "metadata": {},
   "outputs": [
    {
     "name": "stderr",
     "output_type": "stream",
     "text": [
      "100it [00:16,  6.76it/s]\n"
     ]
    }
   ],
   "source": [
    "predictions = []\n",
    "predictions2 = []\n",
    "mean_cvs = []\n",
    "x = x_new[[9]]\n",
    "for models, ncv in tqdm(zip(trajectories, ncv_s)):\n",
    "    uq = ClassificationUncertaintyMCMC(models, ncv)\n",
    "    mean_cvs.append(uq.control_variate(models, x).mean().item())\n",
    "    predictions.append(uq.estimate_emperical_mean(x, use_cv=True).item())\n",
    "    predictions2.append(uq.estimate_emperical_mean(x, use_cv=False).mean().item())"
   ]
  },
  {
   "cell_type": "code",
   "execution_count": 21,
   "metadata": {},
   "outputs": [
    {
     "data": {
      "text/plain": [
       "torch.Size([1])"
      ]
     },
     "execution_count": 21,
     "metadata": {},
     "output_type": "execute_result"
    }
   ],
   "source": [
    "uq.estimate_emperical_mean(x, use_cv=False).shape"
   ]
  },
  {
   "cell_type": "code",
   "execution_count": 22,
   "metadata": {},
   "outputs": [
    {
     "ename": "NameError",
     "evalue": "name 'plt' is not defined",
     "output_type": "error",
     "traceback": [
      "\u001b[0;31m--------------\u001b[0m",
      "\u001b[0;31mNameError\u001b[0mTraceback (most recent call last)",
      "\u001b[0;32m<ipython-input-22-8ffe98aeae0f>\u001b[0m in \u001b[0;36m<module>\u001b[0;34m\u001b[0m\n\u001b[0;32m----> 1\u001b[0;31m \u001b[0mplt\u001b[0m\u001b[0;34m.\u001b[0m\u001b[0mimshow\u001b[0m\u001b[0;34m(\u001b[0m\u001b[0mx\u001b[0m\u001b[0;34m[\u001b[0m\u001b[0;36m0\u001b[0m\u001b[0;34m]\u001b[0m\u001b[0;34m[\u001b[0m\u001b[0;36m0\u001b[0m\u001b[0;34m]\u001b[0m\u001b[0;34m)\u001b[0m\u001b[0;34m\u001b[0m\u001b[0;34m\u001b[0m\u001b[0m\n\u001b[0m",
      "\u001b[0;31mNameError\u001b[0m: name 'plt' is not defined"
     ]
    }
   ],
   "source": [
    "plt.imshow(x[0][0])"
   ]
  },
  {
   "cell_type": "code",
   "execution_count": 88,
   "metadata": {},
   "outputs": [
    {
     "data": {
      "text/plain": [
       "[0.6906493306159973,\n",
       " 0.459884911775589,\n",
       " 0.39609378576278687,\n",
       " -0.1447853296995163,\n",
       " -0.3335528075695038,\n",
       " 0.18213093280792236,\n",
       " -0.7453045845031738,\n",
       " 0.2827748656272888,\n",
       " 0.28250572085380554,\n",
       " -0.5708611607551575,\n",
       " 0.32243725657463074,\n",
       " 0.7448655962944031,\n",
       " 0.6369494795799255,\n",
       " -1.8737280368804932,\n",
       " -0.614073634147644,\n",
       " 0.6373286843299866,\n",
       " 0.58467698097229,\n",
       " -0.5445688366889954,\n",
       " -0.6092315316200256,\n",
       " -0.4465777277946472,\n",
       " -0.13280826807022095,\n",
       " -0.029537806287407875,\n",
       " -0.5689752101898193,\n",
       " 0.017723767086863518,\n",
       " 0.6478661894798279,\n",
       " 0.19825294613838196,\n",
       " -0.35472559928894043,\n",
       " 0.4338468909263611,\n",
       " -0.5810813903808594,\n",
       " 0.8199688196182251,\n",
       " -0.28852859139442444,\n",
       " -0.2093663364648819,\n",
       " -0.2412334829568863,\n",
       " 0.2550760805606842,\n",
       " 0.8445916175842285,\n",
       " 0.5437285304069519,\n",
       " -0.6596545577049255,\n",
       " 0.6915808320045471,\n",
       " -0.4321728050708771,\n",
       " -0.6717803478240967,\n",
       " -0.02066938392817974,\n",
       " 0.3328012526035309,\n",
       " -0.22241906821727753,\n",
       " -0.18915419280529022,\n",
       " -0.3216516971588135,\n",
       " 0.694264829158783,\n",
       " -0.2995292544364929,\n",
       " -0.36200669407844543,\n",
       " 0.07224135845899582,\n",
       " -0.42461884021759033,\n",
       " 0.44081029295921326,\n",
       " 0.36172351241111755,\n",
       " 0.5585882663726807,\n",
       " -0.13112351298332214,\n",
       " 0.8623515367507935,\n",
       " -1.2800378799438477,\n",
       " -0.2179814577102661,\n",
       " -0.20632599294185638,\n",
       " -0.22991931438446045,\n",
       " 0.6152247786521912,\n",
       " -0.5710074305534363,\n",
       " -0.03149248659610748,\n",
       " 0.3198316991329193,\n",
       " 0.41757556796073914,\n",
       " 0.7588021755218506,\n",
       " -0.18058976531028748,\n",
       " 0.4554905295372009,\n",
       " 0.6126225590705872,\n",
       " 0.6637374758720398,\n",
       " -0.650252103805542,\n",
       " -0.8907887935638428,\n",
       " -0.02272890880703926,\n",
       " -0.4414929151535034,\n",
       " -1.1937392950057983,\n",
       " -0.4942988157272339,\n",
       " -0.9390909075737,\n",
       " 0.33583927154541016,\n",
       " 0.7736783027648926,\n",
       " 0.02116244286298752,\n",
       " 0.45220112800598145,\n",
       " 0.6642075181007385,\n",
       " -0.15865372121334076,\n",
       " 0.3304387629032135,\n",
       " 0.3581405580043793,\n",
       " 0.5919503569602966,\n",
       " 0.9321601390838623,\n",
       " 0.3910263478755951,\n",
       " 1.0690257549285889,\n",
       " 1.0162497758865356,\n",
       " 0.07090944796800613,\n",
       " -0.4384111762046814,\n",
       " -0.564836859703064,\n",
       " 0.6806746125221252,\n",
       " -0.14763425290584564]"
      ]
     },
     "execution_count": 88,
     "metadata": {},
     "output_type": "execute_result"
    }
   ],
   "source": [
    "mean_cvs"
   ]
  },
  {
   "cell_type": "code",
   "execution_count": 36,
   "metadata": {},
   "outputs": [],
   "source": [
    "import torch\n",
    "predictions = torch.stack([model(x) for model in models])\n",
    "ncv_v = ncv(models, x)"
   ]
  },
  {
   "cell_type": "code",
   "execution_count": 42,
   "metadata": {},
   "outputs": [
    {
     "name": "stdout",
     "output_type": "stream",
     "text": [
      "Requirement already satisfied: seaborn in /home/vsamohin/miniconda3/lib/python3.6/site-packages (0.10.1)\n",
      "Requirement already satisfied: scipy>=1.0.1 in /home/vsamohin/miniconda3/lib/python3.6/site-packages (from seaborn) (1.3.0)\n",
      "Requirement already satisfied: numpy>=1.13.3 in /home/vsamohin/miniconda3/lib/python3.6/site-packages (from seaborn) (1.16.4)\n",
      "Requirement already satisfied: pandas>=0.22.0 in /home/vsamohin/miniconda3/lib/python3.6/site-packages (from seaborn) (0.25.3)\n",
      "Requirement already satisfied: matplotlib>=2.1.2 in /home/vsamohin/miniconda3/lib/python3.6/site-packages (from seaborn) (3.1.1)\n",
      "Requirement already satisfied: python-dateutil>=2.6.1 in /home/vsamohin/miniconda3/lib/python3.6/site-packages (from pandas>=0.22.0->seaborn) (2.8.0)\n",
      "Requirement already satisfied: pytz>=2017.2 in /home/vsamohin/miniconda3/lib/python3.6/site-packages (from pandas>=0.22.0->seaborn) (2019.3)\n",
      "Requirement already satisfied: cycler>=0.10 in /home/vsamohin/miniconda3/lib/python3.6/site-packages (from matplotlib>=2.1.2->seaborn) (0.10.0)\n",
      "Requirement already satisfied: kiwisolver>=1.0.1 in /home/vsamohin/miniconda3/lib/python3.6/site-packages (from matplotlib>=2.1.2->seaborn) (1.1.0)\n",
      "Requirement already satisfied: pyparsing!=2.0.4,!=2.1.2,!=2.1.6,>=2.0.1 in /home/vsamohin/miniconda3/lib/python3.6/site-packages (from matplotlib>=2.1.2->seaborn) (2.4.2)\n",
      "Requirement already satisfied: six>=1.5 in /home/vsamohin/miniconda3/lib/python3.6/site-packages (from python-dateutil>=2.6.1->pandas>=0.22.0->seaborn) (1.12.0)\n",
      "Requirement already satisfied: setuptools in /home/vsamohin/miniconda3/lib/python3.6/site-packages (from kiwisolver>=1.0.1->matplotlib>=2.1.2->seaborn) (41.4.0)\n"
     ]
    }
   ],
   "source": [
    "!pip install seaborn\n",
    "import seaborn as sns"
   ]
  },
  {
   "cell_type": "code",
   "execution_count": 33,
   "metadata": {},
   "outputs": [
    {
     "data": {
      "text/plain": [
       "{'whiskers': [<matplotlib.lines.Line2D at 0x7f6d540e1c50>,\n",
       "  <matplotlib.lines.Line2D at 0x7f6d540e1f98>,\n",
       "  <matplotlib.lines.Line2D at 0x7f6d540fc3c8>,\n",
       "  <matplotlib.lines.Line2D at 0x7f6d540fc710>],\n",
       " 'caps': [<matplotlib.lines.Line2D at 0x7f6d540f1320>,\n",
       "  <matplotlib.lines.Line2D at 0x7f6d540f1668>,\n",
       "  <matplotlib.lines.Line2D at 0x7f6d540fca58>,\n",
       "  <matplotlib.lines.Line2D at 0x7f6d540fcda0>],\n",
       " 'boxes': [<matplotlib.lines.Line2D at 0x7f6d540e1940>,\n",
       "  <matplotlib.lines.Line2D at 0x7f6d540fc048>],\n",
       " 'medians': [<matplotlib.lines.Line2D at 0x7f6d540f19b0>,\n",
       "  <matplotlib.lines.Line2D at 0x7f6d5410b128>],\n",
       " 'fliers': [<matplotlib.lines.Line2D at 0x7f6d540f1cf8>,\n",
       "  <matplotlib.lines.Line2D at 0x7f6d5410b470>],\n",
       " 'means': []}"
      ]
     },
     "execution_count": 33,
     "metadata": {},
     "output_type": "execute_result"
    },
    {
     "data": {
      "image/png": "[encoded data removed]",
      "text/plain": [
       "<Figure size 432x288 with 1 Axes>"
      ]
     },
     "metadata": {
      "needs_background": "light"
     },
     "output_type": "display_data"
    }
   ],
   "source": [
    "import matplotlib.pyplot as plt\n",
    "%matplotlib inline\n",
    "fig7, ax7 = plt.subplots()\n",
    "#ax7.boxplot(predictions)\n",
    "ax7.boxplot([predictions2, predictions, ])"
   ]
  },
  {
   "cell_type": "code",
   "execution_count": null,
   "metadata": {},
   "outputs": [],
   "source": []
  },
  {
   "cell_type": "code",
   "execution_count": 24,
   "metadata": {},
   "outputs": [
    {
     "data": {
      "text/plain": [
       "tensor([[-0.0093],\n",
       "        [-0.0277],\n",
       "        [-0.0109],\n",
       "        [ 0.0111],\n",
       "        [-0.0586],\n",
       "        [-0.0046],\n",
       "        [-0.0200],\n",
       "        [ 0.0225],\n",
       "        [ 0.0112],\n",
       "        [ 0.0134],\n",
       "        [-0.0422],\n",
       "        [ 0.0201],\n",
       "        [ 0.0097],\n",
       "        [-0.0162],\n",
       "        [-0.0135],\n",
       "        [ 0.0134],\n",
       "        [-0.0079],\n",
       "        [ 0.0115],\n",
       "        [ 0.0015],\n",
       "        [ 0.0079],\n",
       "        [ 0.0147],\n",
       "        [ 0.0010],\n",
       "        [ 0.0231],\n",
       "        [ 0.0108],\n",
       "        [ 0.0031],\n",
       "        [-0.0087],\n",
       "        [ 0.0041],\n",
       "        [ 0.0280],\n",
       "        [-0.0212],\n",
       "        [ 0.0210],\n",
       "        [ 0.0015],\n",
       "        [-0.0059],\n",
       "        [-0.0015],\n",
       "        [ 0.0255],\n",
       "        [-0.0085],\n",
       "        [ 0.0118],\n",
       "        [-0.0080],\n",
       "        [ 0.0094],\n",
       "        [ 0.0103],\n",
       "        [-0.0093],\n",
       "        [ 0.0092],\n",
       "        [ 0.0034],\n",
       "        [-0.0385],\n",
       "        [-0.0038],\n",
       "        [-0.0022],\n",
       "        [ 0.0116],\n",
       "        [-0.0107],\n",
       "        [-0.0156],\n",
       "        [ 0.0091],\n",
       "        [-0.0090]], grad_fn=<AddBackward0>)"
      ]
     },
     "execution_count": 24,
     "metadata": {},
     "output_type": "execute_result"
    }
   ],
   "source": [
    "uq.control_variate(models, x_new[[27]])"
   ]
  },
  {
   "cell_type": "code",
   "execution_count": 74,
   "metadata": {},
   "outputs": [
    {
     "data": {
      "text/plain": [
       "<matplotlib.image.AxesImage at 0x7f89fde56a58>"
      ]
     },
     "execution_count": 74,
     "metadata": {},
     "output_type": "execute_result"
    },
    {
     "data": {
      "image/png": "[encoded data removed]",
      "text/plain": [
       "<Figure size 432x288 with 1 Axes>"
      ]
     },
     "metadata": {
      "needs_background": "light"
     },
     "output_type": "display_data"
    }
   ],
   "source": [
    "plt.imshow(x_new[27][0])"
   ]
  },
  {
   "cell_type": "code",
   "execution_count": null,
   "metadata": {},
   "outputs": [],
   "source": []
  }
 ],
 "metadata": {
  "kernelspec": {
   "display_name": "Python 3.8.2 64-bit",
   "language": "python",
   "name": "python_defaultSpec_1599380047345"
  },
  "language_info": {
   "codemirror_mode": {
    "name": "ipython",
    "version": 3
   },
   "file_extension": ".py",
   "mimetype": "text/x-python",
   "name": "python",
   "nbconvert_exporter": "python",
   "pygments_lexer": "ipython3",
   "version": "3.8.2-final"
  }
 },
 "nbformat": 4,
 "nbformat_minor": 2
}